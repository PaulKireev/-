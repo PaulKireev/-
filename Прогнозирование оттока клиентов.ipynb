{
 "cells": [
  {
   "cell_type": "markdown",
   "metadata": {
    "toc": true
   },
   "source": [
    "<h1>Содержание<span class=\"tocSkip\"></span></h1>\n",
    "<div class=\"toc\"><ul class=\"toc-item\"><li><span><a href=\"#Подготовка-данных\" data-toc-modified-id=\"Подготовка-данных-1\"><span class=\"toc-item-num\">1&nbsp;&nbsp;</span>Подготовка данных</a></span></li><li><span><a href=\"#Исследование-задачи\" data-toc-modified-id=\"Исследование-задачи-2\"><span class=\"toc-item-num\">2&nbsp;&nbsp;</span>Исследование задачи</a></span></li><li><span><a href=\"#Борьба-с-дисбалансом\" data-toc-modified-id=\"Борьба-с-дисбалансом-3\"><span class=\"toc-item-num\">3&nbsp;&nbsp;</span>Борьба с дисбалансом</a></span></li><li><span><a href=\"#Тестирование-модели\" data-toc-modified-id=\"Тестирование-модели-4\"><span class=\"toc-item-num\">4&nbsp;&nbsp;</span>Тестирование модели</a></span></li><li><span><a href=\"#Чек-лист-готовности-проекта\" data-toc-modified-id=\"Чек-лист-готовности-проекта-5\"><span class=\"toc-item-num\">5&nbsp;&nbsp;</span>Чек-лист готовности проекта</a></span></li></ul></div>"
   ]
  },
  {
   "cell_type": "markdown",
   "metadata": {},
   "source": [
    "# Отток клиентов"
   ]
  },
  {
   "cell_type": "markdown",
   "metadata": {},
   "source": [
    "Из «Бета-Банка» стали уходить клиенты. Каждый месяц. Немного, но заметно. Банковские маркетологи посчитали: сохранять текущих клиентов дешевле, чем привлекать новых.\n",
    "\n",
    "Нужно спрогнозировать, уйдёт клиент из банка в ближайшее время или нет. Вам предоставлены исторические данные о поведении клиентов и расторжении договоров с банком. \n",
    "\n",
    "Постройте модель с предельно большим значением *F1*-меры. Чтобы сдать проект успешно, нужно довести метрику до 0.59. Проверьте *F1*-меру на тестовой выборке самостоятельно.\n",
    "\n",
    "Дополнительно измеряйте *AUC-ROC*, сравнивайте её значение с *F1*-мерой.\n",
    "\n",
    "Источник данных: [https://www.kaggle.com/barelydedicated/bank-customer-churn-modeling](https://www.kaggle.com/barelydedicated/bank-customer-churn-modeling)"
   ]
  },
  {
   "cell_type": "markdown",
   "metadata": {},
   "source": [
    "**Описание данных**\n",
    "\n",
    "**Признаки**\n",
    "\n",
    "* RowNumber — индекс строки в данных\n",
    "* CustomerId — уникальный идентификатор клиента\n",
    "* Surname — фамилия\n",
    "* CreditScore — кредитный рейтинг\n",
    "* Geography — страна проживания\n",
    "* Gender — пол\n",
    "* Age — возраст\n",
    "* Tenure — сколько лет человек является клиентом банка\n",
    "* Balance — баланс на счёте\n",
    "* NumOfProducts — количество продуктов банка, используемых клиентом\n",
    "* HasCrCard — наличие кредитной карты\n",
    "* IsActiveMember — активность клиента\n",
    "* EstimatedSalary — предполагаемая зарплата\n",
    "\n",
    "**Целевой признак**\n",
    "\n",
    "* Exited — факт ухода клиента"
   ]
  },
  {
   "cell_type": "markdown",
   "metadata": {},
   "source": [
    "## Подготовка данных"
   ]
  },
  {
   "cell_type": "code",
   "execution_count": 49,
   "metadata": {},
   "outputs": [],
   "source": [
    "# Загружаем библиотеки\n",
    "import pandas as pd\n",
    "import numpy as np\n",
    "from sklearn.model_selection import train_test_split\n",
    "from sklearn.linear_model import LinearRegression\n",
    "from sklearn.tree import DecisionTreeRegressor\n",
    "from sklearn.ensemble import RandomForestRegressor\n",
    "from sklearn.linear_model import LogisticRegression\n",
    "from sklearn.ensemble import RandomForestClassifier"
   ]
  },
  {
   "cell_type": "code",
   "execution_count": 50,
   "metadata": {},
   "outputs": [],
   "source": [
    "from sklearn.tree import DecisionTreeClassifier\n",
    "from sklearn.neighbors import KNeighborsClassifier\n",
    "from sklearn.svm import SVC\n",
    "from sklearn.naive_bayes import BernoulliNB"
   ]
  },
  {
   "cell_type": "code",
   "execution_count": 51,
   "metadata": {},
   "outputs": [],
   "source": [
    "from matplotlib import pyplot as plt\n",
    "from sklearn.model_selection import cross_val_score\n",
    "from sklearn.metrics import f1_score\n",
    "from sklearn.utils import shuffle\n",
    "from sklearn.metrics import accuracy_score\n",
    "from sklearn.metrics import roc_curve\n",
    "from sklearn.metrics import roc_auc_score\n",
    "from sklearn.preprocessing import StandardScaler"
   ]
  },
  {
   "cell_type": "code",
   "execution_count": 52,
   "metadata": {},
   "outputs": [],
   "source": [
    "# загрузка данных\n",
    "data = pd.read_csv('/datasets/Churn.csv')"
   ]
  },
  {
   "cell_type": "code",
   "execution_count": 53,
   "metadata": {},
   "outputs": [
    {
     "data": {
      "text/plain": [
       "(10000, 14)"
      ]
     },
     "execution_count": 53,
     "metadata": {},
     "output_type": "execute_result"
    }
   ],
   "source": [
    "# размер датасета\n",
    "data.shape"
   ]
  },
  {
   "cell_type": "code",
   "execution_count": 54,
   "metadata": {},
   "outputs": [
    {
     "name": "stdout",
     "output_type": "stream",
     "text": [
      "<class 'pandas.core.frame.DataFrame'>\n",
      "RangeIndex: 10000 entries, 0 to 9999\n",
      "Data columns (total 14 columns):\n",
      " #   Column           Non-Null Count  Dtype  \n",
      "---  ------           --------------  -----  \n",
      " 0   RowNumber        10000 non-null  int64  \n",
      " 1   CustomerId       10000 non-null  int64  \n",
      " 2   Surname          10000 non-null  object \n",
      " 3   CreditScore      10000 non-null  int64  \n",
      " 4   Geography        10000 non-null  object \n",
      " 5   Gender           10000 non-null  object \n",
      " 6   Age              10000 non-null  int64  \n",
      " 7   Tenure           9091 non-null   float64\n",
      " 8   Balance          10000 non-null  float64\n",
      " 9   NumOfProducts    10000 non-null  int64  \n",
      " 10  HasCrCard        10000 non-null  int64  \n",
      " 11  IsActiveMember   10000 non-null  int64  \n",
      " 12  EstimatedSalary  10000 non-null  float64\n",
      " 13  Exited           10000 non-null  int64  \n",
      "dtypes: float64(3), int64(8), object(3)\n",
      "memory usage: 1.1+ MB\n"
     ]
    }
   ],
   "source": [
    "#информация по столбцам\n",
    "data.info()"
   ]
  },
  {
   "cell_type": "code",
   "execution_count": 55,
   "metadata": {},
   "outputs": [
    {
     "data": {
      "text/html": [
       "<div>\n",
       "<style scoped>\n",
       "    .dataframe tbody tr th:only-of-type {\n",
       "        vertical-align: middle;\n",
       "    }\n",
       "\n",
       "    .dataframe tbody tr th {\n",
       "        vertical-align: top;\n",
       "    }\n",
       "\n",
       "    .dataframe thead th {\n",
       "        text-align: right;\n",
       "    }\n",
       "</style>\n",
       "<table border=\"1\" class=\"dataframe\">\n",
       "  <thead>\n",
       "    <tr style=\"text-align: right;\">\n",
       "      <th></th>\n",
       "      <th>RowNumber</th>\n",
       "      <th>CustomerId</th>\n",
       "      <th>Surname</th>\n",
       "      <th>CreditScore</th>\n",
       "      <th>Geography</th>\n",
       "      <th>Gender</th>\n",
       "      <th>Age</th>\n",
       "      <th>Tenure</th>\n",
       "      <th>Balance</th>\n",
       "      <th>NumOfProducts</th>\n",
       "      <th>HasCrCard</th>\n",
       "      <th>IsActiveMember</th>\n",
       "      <th>EstimatedSalary</th>\n",
       "      <th>Exited</th>\n",
       "    </tr>\n",
       "  </thead>\n",
       "  <tbody>\n",
       "    <tr>\n",
       "      <th>0</th>\n",
       "      <td>1</td>\n",
       "      <td>15634602</td>\n",
       "      <td>Hargrave</td>\n",
       "      <td>619</td>\n",
       "      <td>France</td>\n",
       "      <td>Female</td>\n",
       "      <td>42</td>\n",
       "      <td>2.0</td>\n",
       "      <td>0.00</td>\n",
       "      <td>1</td>\n",
       "      <td>1</td>\n",
       "      <td>1</td>\n",
       "      <td>101348.88</td>\n",
       "      <td>1</td>\n",
       "    </tr>\n",
       "    <tr>\n",
       "      <th>1</th>\n",
       "      <td>2</td>\n",
       "      <td>15647311</td>\n",
       "      <td>Hill</td>\n",
       "      <td>608</td>\n",
       "      <td>Spain</td>\n",
       "      <td>Female</td>\n",
       "      <td>41</td>\n",
       "      <td>1.0</td>\n",
       "      <td>83807.86</td>\n",
       "      <td>1</td>\n",
       "      <td>0</td>\n",
       "      <td>1</td>\n",
       "      <td>112542.58</td>\n",
       "      <td>0</td>\n",
       "    </tr>\n",
       "    <tr>\n",
       "      <th>2</th>\n",
       "      <td>3</td>\n",
       "      <td>15619304</td>\n",
       "      <td>Onio</td>\n",
       "      <td>502</td>\n",
       "      <td>France</td>\n",
       "      <td>Female</td>\n",
       "      <td>42</td>\n",
       "      <td>8.0</td>\n",
       "      <td>159660.80</td>\n",
       "      <td>3</td>\n",
       "      <td>1</td>\n",
       "      <td>0</td>\n",
       "      <td>113931.57</td>\n",
       "      <td>1</td>\n",
       "    </tr>\n",
       "    <tr>\n",
       "      <th>3</th>\n",
       "      <td>4</td>\n",
       "      <td>15701354</td>\n",
       "      <td>Boni</td>\n",
       "      <td>699</td>\n",
       "      <td>France</td>\n",
       "      <td>Female</td>\n",
       "      <td>39</td>\n",
       "      <td>1.0</td>\n",
       "      <td>0.00</td>\n",
       "      <td>2</td>\n",
       "      <td>0</td>\n",
       "      <td>0</td>\n",
       "      <td>93826.63</td>\n",
       "      <td>0</td>\n",
       "    </tr>\n",
       "    <tr>\n",
       "      <th>4</th>\n",
       "      <td>5</td>\n",
       "      <td>15737888</td>\n",
       "      <td>Mitchell</td>\n",
       "      <td>850</td>\n",
       "      <td>Spain</td>\n",
       "      <td>Female</td>\n",
       "      <td>43</td>\n",
       "      <td>2.0</td>\n",
       "      <td>125510.82</td>\n",
       "      <td>1</td>\n",
       "      <td>1</td>\n",
       "      <td>1</td>\n",
       "      <td>79084.10</td>\n",
       "      <td>0</td>\n",
       "    </tr>\n",
       "    <tr>\n",
       "      <th>5</th>\n",
       "      <td>6</td>\n",
       "      <td>15574012</td>\n",
       "      <td>Chu</td>\n",
       "      <td>645</td>\n",
       "      <td>Spain</td>\n",
       "      <td>Male</td>\n",
       "      <td>44</td>\n",
       "      <td>8.0</td>\n",
       "      <td>113755.78</td>\n",
       "      <td>2</td>\n",
       "      <td>1</td>\n",
       "      <td>0</td>\n",
       "      <td>149756.71</td>\n",
       "      <td>1</td>\n",
       "    </tr>\n",
       "    <tr>\n",
       "      <th>6</th>\n",
       "      <td>7</td>\n",
       "      <td>15592531</td>\n",
       "      <td>Bartlett</td>\n",
       "      <td>822</td>\n",
       "      <td>France</td>\n",
       "      <td>Male</td>\n",
       "      <td>50</td>\n",
       "      <td>7.0</td>\n",
       "      <td>0.00</td>\n",
       "      <td>2</td>\n",
       "      <td>1</td>\n",
       "      <td>1</td>\n",
       "      <td>10062.80</td>\n",
       "      <td>0</td>\n",
       "    </tr>\n",
       "    <tr>\n",
       "      <th>7</th>\n",
       "      <td>8</td>\n",
       "      <td>15656148</td>\n",
       "      <td>Obinna</td>\n",
       "      <td>376</td>\n",
       "      <td>Germany</td>\n",
       "      <td>Female</td>\n",
       "      <td>29</td>\n",
       "      <td>4.0</td>\n",
       "      <td>115046.74</td>\n",
       "      <td>4</td>\n",
       "      <td>1</td>\n",
       "      <td>0</td>\n",
       "      <td>119346.88</td>\n",
       "      <td>1</td>\n",
       "    </tr>\n",
       "    <tr>\n",
       "      <th>8</th>\n",
       "      <td>9</td>\n",
       "      <td>15792365</td>\n",
       "      <td>He</td>\n",
       "      <td>501</td>\n",
       "      <td>France</td>\n",
       "      <td>Male</td>\n",
       "      <td>44</td>\n",
       "      <td>4.0</td>\n",
       "      <td>142051.07</td>\n",
       "      <td>2</td>\n",
       "      <td>0</td>\n",
       "      <td>1</td>\n",
       "      <td>74940.50</td>\n",
       "      <td>0</td>\n",
       "    </tr>\n",
       "    <tr>\n",
       "      <th>9</th>\n",
       "      <td>10</td>\n",
       "      <td>15592389</td>\n",
       "      <td>H?</td>\n",
       "      <td>684</td>\n",
       "      <td>France</td>\n",
       "      <td>Male</td>\n",
       "      <td>27</td>\n",
       "      <td>2.0</td>\n",
       "      <td>134603.88</td>\n",
       "      <td>1</td>\n",
       "      <td>1</td>\n",
       "      <td>1</td>\n",
       "      <td>71725.73</td>\n",
       "      <td>0</td>\n",
       "    </tr>\n",
       "  </tbody>\n",
       "</table>\n",
       "</div>"
      ],
      "text/plain": [
       "   RowNumber  CustomerId   Surname  CreditScore Geography  Gender  Age  \\\n",
       "0          1    15634602  Hargrave          619    France  Female   42   \n",
       "1          2    15647311      Hill          608     Spain  Female   41   \n",
       "2          3    15619304      Onio          502    France  Female   42   \n",
       "3          4    15701354      Boni          699    France  Female   39   \n",
       "4          5    15737888  Mitchell          850     Spain  Female   43   \n",
       "5          6    15574012       Chu          645     Spain    Male   44   \n",
       "6          7    15592531  Bartlett          822    France    Male   50   \n",
       "7          8    15656148    Obinna          376   Germany  Female   29   \n",
       "8          9    15792365        He          501    France    Male   44   \n",
       "9         10    15592389        H?          684    France    Male   27   \n",
       "\n",
       "   Tenure    Balance  NumOfProducts  HasCrCard  IsActiveMember  \\\n",
       "0     2.0       0.00              1          1               1   \n",
       "1     1.0   83807.86              1          0               1   \n",
       "2     8.0  159660.80              3          1               0   \n",
       "3     1.0       0.00              2          0               0   \n",
       "4     2.0  125510.82              1          1               1   \n",
       "5     8.0  113755.78              2          1               0   \n",
       "6     7.0       0.00              2          1               1   \n",
       "7     4.0  115046.74              4          1               0   \n",
       "8     4.0  142051.07              2          0               1   \n",
       "9     2.0  134603.88              1          1               1   \n",
       "\n",
       "   EstimatedSalary  Exited  \n",
       "0        101348.88       1  \n",
       "1        112542.58       0  \n",
       "2        113931.57       1  \n",
       "3         93826.63       0  \n",
       "4         79084.10       0  \n",
       "5        149756.71       1  \n",
       "6         10062.80       0  \n",
       "7        119346.88       1  \n",
       "8         74940.50       0  \n",
       "9         71725.73       0  "
      ]
     },
     "execution_count": 55,
     "metadata": {},
     "output_type": "execute_result"
    }
   ],
   "source": [
    "data.head(10)"
   ]
  },
  {
   "cell_type": "code",
   "execution_count": 56,
   "metadata": {},
   "outputs": [
    {
     "data": {
      "text/html": [
       "<div>\n",
       "<style scoped>\n",
       "    .dataframe tbody tr th:only-of-type {\n",
       "        vertical-align: middle;\n",
       "    }\n",
       "\n",
       "    .dataframe tbody tr th {\n",
       "        vertical-align: top;\n",
       "    }\n",
       "\n",
       "    .dataframe thead th {\n",
       "        text-align: right;\n",
       "    }\n",
       "</style>\n",
       "<table border=\"1\" class=\"dataframe\">\n",
       "  <thead>\n",
       "    <tr style=\"text-align: right;\">\n",
       "      <th></th>\n",
       "      <th>RowNumber</th>\n",
       "      <th>CustomerId</th>\n",
       "      <th>Surname</th>\n",
       "      <th>CreditScore</th>\n",
       "      <th>Geography</th>\n",
       "      <th>Gender</th>\n",
       "      <th>Age</th>\n",
       "      <th>Tenure</th>\n",
       "      <th>Balance</th>\n",
       "      <th>NumOfProducts</th>\n",
       "      <th>HasCrCard</th>\n",
       "      <th>IsActiveMember</th>\n",
       "      <th>EstimatedSalary</th>\n",
       "      <th>Exited</th>\n",
       "    </tr>\n",
       "  </thead>\n",
       "  <tbody>\n",
       "    <tr>\n",
       "      <th>9990</th>\n",
       "      <td>9991</td>\n",
       "      <td>15798964</td>\n",
       "      <td>Nkemakonam</td>\n",
       "      <td>714</td>\n",
       "      <td>Germany</td>\n",
       "      <td>Male</td>\n",
       "      <td>33</td>\n",
       "      <td>3.0</td>\n",
       "      <td>35016.60</td>\n",
       "      <td>1</td>\n",
       "      <td>1</td>\n",
       "      <td>0</td>\n",
       "      <td>53667.08</td>\n",
       "      <td>0</td>\n",
       "    </tr>\n",
       "    <tr>\n",
       "      <th>9991</th>\n",
       "      <td>9992</td>\n",
       "      <td>15769959</td>\n",
       "      <td>Ajuluchukwu</td>\n",
       "      <td>597</td>\n",
       "      <td>France</td>\n",
       "      <td>Female</td>\n",
       "      <td>53</td>\n",
       "      <td>4.0</td>\n",
       "      <td>88381.21</td>\n",
       "      <td>1</td>\n",
       "      <td>1</td>\n",
       "      <td>0</td>\n",
       "      <td>69384.71</td>\n",
       "      <td>1</td>\n",
       "    </tr>\n",
       "    <tr>\n",
       "      <th>9992</th>\n",
       "      <td>9993</td>\n",
       "      <td>15657105</td>\n",
       "      <td>Chukwualuka</td>\n",
       "      <td>726</td>\n",
       "      <td>Spain</td>\n",
       "      <td>Male</td>\n",
       "      <td>36</td>\n",
       "      <td>2.0</td>\n",
       "      <td>0.00</td>\n",
       "      <td>1</td>\n",
       "      <td>1</td>\n",
       "      <td>0</td>\n",
       "      <td>195192.40</td>\n",
       "      <td>0</td>\n",
       "    </tr>\n",
       "    <tr>\n",
       "      <th>9993</th>\n",
       "      <td>9994</td>\n",
       "      <td>15569266</td>\n",
       "      <td>Rahman</td>\n",
       "      <td>644</td>\n",
       "      <td>France</td>\n",
       "      <td>Male</td>\n",
       "      <td>28</td>\n",
       "      <td>7.0</td>\n",
       "      <td>155060.41</td>\n",
       "      <td>1</td>\n",
       "      <td>1</td>\n",
       "      <td>0</td>\n",
       "      <td>29179.52</td>\n",
       "      <td>0</td>\n",
       "    </tr>\n",
       "    <tr>\n",
       "      <th>9994</th>\n",
       "      <td>9995</td>\n",
       "      <td>15719294</td>\n",
       "      <td>Wood</td>\n",
       "      <td>800</td>\n",
       "      <td>France</td>\n",
       "      <td>Female</td>\n",
       "      <td>29</td>\n",
       "      <td>2.0</td>\n",
       "      <td>0.00</td>\n",
       "      <td>2</td>\n",
       "      <td>0</td>\n",
       "      <td>0</td>\n",
       "      <td>167773.55</td>\n",
       "      <td>0</td>\n",
       "    </tr>\n",
       "    <tr>\n",
       "      <th>9995</th>\n",
       "      <td>9996</td>\n",
       "      <td>15606229</td>\n",
       "      <td>Obijiaku</td>\n",
       "      <td>771</td>\n",
       "      <td>France</td>\n",
       "      <td>Male</td>\n",
       "      <td>39</td>\n",
       "      <td>5.0</td>\n",
       "      <td>0.00</td>\n",
       "      <td>2</td>\n",
       "      <td>1</td>\n",
       "      <td>0</td>\n",
       "      <td>96270.64</td>\n",
       "      <td>0</td>\n",
       "    </tr>\n",
       "    <tr>\n",
       "      <th>9996</th>\n",
       "      <td>9997</td>\n",
       "      <td>15569892</td>\n",
       "      <td>Johnstone</td>\n",
       "      <td>516</td>\n",
       "      <td>France</td>\n",
       "      <td>Male</td>\n",
       "      <td>35</td>\n",
       "      <td>10.0</td>\n",
       "      <td>57369.61</td>\n",
       "      <td>1</td>\n",
       "      <td>1</td>\n",
       "      <td>1</td>\n",
       "      <td>101699.77</td>\n",
       "      <td>0</td>\n",
       "    </tr>\n",
       "    <tr>\n",
       "      <th>9997</th>\n",
       "      <td>9998</td>\n",
       "      <td>15584532</td>\n",
       "      <td>Liu</td>\n",
       "      <td>709</td>\n",
       "      <td>France</td>\n",
       "      <td>Female</td>\n",
       "      <td>36</td>\n",
       "      <td>7.0</td>\n",
       "      <td>0.00</td>\n",
       "      <td>1</td>\n",
       "      <td>0</td>\n",
       "      <td>1</td>\n",
       "      <td>42085.58</td>\n",
       "      <td>1</td>\n",
       "    </tr>\n",
       "    <tr>\n",
       "      <th>9998</th>\n",
       "      <td>9999</td>\n",
       "      <td>15682355</td>\n",
       "      <td>Sabbatini</td>\n",
       "      <td>772</td>\n",
       "      <td>Germany</td>\n",
       "      <td>Male</td>\n",
       "      <td>42</td>\n",
       "      <td>3.0</td>\n",
       "      <td>75075.31</td>\n",
       "      <td>2</td>\n",
       "      <td>1</td>\n",
       "      <td>0</td>\n",
       "      <td>92888.52</td>\n",
       "      <td>1</td>\n",
       "    </tr>\n",
       "    <tr>\n",
       "      <th>9999</th>\n",
       "      <td>10000</td>\n",
       "      <td>15628319</td>\n",
       "      <td>Walker</td>\n",
       "      <td>792</td>\n",
       "      <td>France</td>\n",
       "      <td>Female</td>\n",
       "      <td>28</td>\n",
       "      <td>NaN</td>\n",
       "      <td>130142.79</td>\n",
       "      <td>1</td>\n",
       "      <td>1</td>\n",
       "      <td>0</td>\n",
       "      <td>38190.78</td>\n",
       "      <td>0</td>\n",
       "    </tr>\n",
       "  </tbody>\n",
       "</table>\n",
       "</div>"
      ],
      "text/plain": [
       "      RowNumber  CustomerId      Surname  CreditScore Geography  Gender  Age  \\\n",
       "9990       9991    15798964   Nkemakonam          714   Germany    Male   33   \n",
       "9991       9992    15769959  Ajuluchukwu          597    France  Female   53   \n",
       "9992       9993    15657105  Chukwualuka          726     Spain    Male   36   \n",
       "9993       9994    15569266       Rahman          644    France    Male   28   \n",
       "9994       9995    15719294         Wood          800    France  Female   29   \n",
       "9995       9996    15606229     Obijiaku          771    France    Male   39   \n",
       "9996       9997    15569892    Johnstone          516    France    Male   35   \n",
       "9997       9998    15584532          Liu          709    France  Female   36   \n",
       "9998       9999    15682355    Sabbatini          772   Germany    Male   42   \n",
       "9999      10000    15628319       Walker          792    France  Female   28   \n",
       "\n",
       "      Tenure    Balance  NumOfProducts  HasCrCard  IsActiveMember  \\\n",
       "9990     3.0   35016.60              1          1               0   \n",
       "9991     4.0   88381.21              1          1               0   \n",
       "9992     2.0       0.00              1          1               0   \n",
       "9993     7.0  155060.41              1          1               0   \n",
       "9994     2.0       0.00              2          0               0   \n",
       "9995     5.0       0.00              2          1               0   \n",
       "9996    10.0   57369.61              1          1               1   \n",
       "9997     7.0       0.00              1          0               1   \n",
       "9998     3.0   75075.31              2          1               0   \n",
       "9999     NaN  130142.79              1          1               0   \n",
       "\n",
       "      EstimatedSalary  Exited  \n",
       "9990         53667.08       0  \n",
       "9991         69384.71       1  \n",
       "9992        195192.40       0  \n",
       "9993         29179.52       0  \n",
       "9994        167773.55       0  \n",
       "9995         96270.64       0  \n",
       "9996        101699.77       0  \n",
       "9997         42085.58       1  \n",
       "9998         92888.52       1  \n",
       "9999         38190.78       0  "
      ]
     },
     "execution_count": 56,
     "metadata": {},
     "output_type": "execute_result"
    }
   ],
   "source": [
    "data.tail(10)"
   ]
  },
  {
   "cell_type": "code",
   "execution_count": 57,
   "metadata": {},
   "outputs": [
    {
     "data": {
      "text/plain": [
       "Index(['RowNumber', 'CustomerId', 'Surname', 'CreditScore', 'Geography',\n",
       "       'Gender', 'Age', 'Tenure', 'Balance', 'NumOfProducts', 'HasCrCard',\n",
       "       'IsActiveMember', 'EstimatedSalary', 'Exited'],\n",
       "      dtype='object')"
      ]
     },
     "execution_count": 57,
     "metadata": {},
     "output_type": "execute_result"
    }
   ],
   "source": [
    "#  названия столбцов\n",
    "data.columns"
   ]
  },
  {
   "cell_type": "markdown",
   "metadata": {},
   "source": [
    "**Наблюдения:**\n",
    "\n",
    "* Наличие в датасете излишних данных (столбцы RowNumber, CustomerId, Surname)\n",
    "* NaN-значения в столбце Tenure\n",
    "* Категориальные признаки - столбцы Geography и Gender"
   ]
  },
  {
   "cell_type": "code",
   "execution_count": 58,
   "metadata": {},
   "outputs": [],
   "source": [
    "# приведем названия в порядок \n",
    "data = data.rename(columns={'RowNumber':'Row_Number', 'CustomerId':'Customer_Id', 'CreditScore':'Credit_Score',\n",
    "       'NumOfProducts':'Num_Of_Products', 'HasCrCard':'Has_Cr_Card',\n",
    "       'IsActiveMember':'Is_Active_Member', 'EstimatedSalary':'Estimated_Salary'})"
   ]
  },
  {
   "cell_type": "code",
   "execution_count": 59,
   "metadata": {},
   "outputs": [],
   "source": [
    "# приводим названия к нижниму регистру\n",
    "data.columns = data.columns.str.lower()"
   ]
  },
  {
   "cell_type": "code",
   "execution_count": 60,
   "metadata": {},
   "outputs": [
    {
     "data": {
      "text/plain": [
       "Index(['row_number', 'customer_id', 'surname', 'credit_score', 'geography',\n",
       "       'gender', 'age', 'tenure', 'balance', 'num_of_products', 'has_cr_card',\n",
       "       'is_active_member', 'estimated_salary', 'exited'],\n",
       "      dtype='object')"
      ]
     },
     "execution_count": 60,
     "metadata": {},
     "output_type": "execute_result"
    }
   ],
   "source": [
    "# проверка\n",
    "data.columns"
   ]
  },
  {
   "cell_type": "code",
   "execution_count": 61,
   "metadata": {},
   "outputs": [],
   "source": [
    "# удаляем лишнюю информацию \n",
    "data.drop(columns='surname', inplace=True)\n",
    "data.drop(columns='row_number', inplace=True)\n",
    "data.drop(columns='customer_id', inplace=True)"
   ]
  },
  {
   "cell_type": "markdown",
   "metadata": {},
   "source": [
    "**Обработка пропусков**"
   ]
  },
  {
   "cell_type": "code",
   "execution_count": 62,
   "metadata": {},
   "outputs": [
    {
     "data": {
      "text/plain": [
       "credit_score          0\n",
       "geography             0\n",
       "gender                0\n",
       "age                   0\n",
       "tenure              909\n",
       "balance               0\n",
       "num_of_products       0\n",
       "has_cr_card           0\n",
       "is_active_member      0\n",
       "estimated_salary      0\n",
       "exited                0\n",
       "dtype: int64"
      ]
     },
     "execution_count": 62,
     "metadata": {},
     "output_type": "execute_result"
    }
   ],
   "source": [
    "# посмотрим пропуски\n",
    "data.isna().sum()"
   ]
  },
  {
   "cell_type": "code",
   "execution_count": 63,
   "metadata": {},
   "outputs": [
    {
     "data": {
      "text/plain": [
       "(5.0, 4.997690023099769)"
      ]
     },
     "execution_count": 63,
     "metadata": {},
     "output_type": "execute_result"
    }
   ],
   "source": [
    "# посмотрим медиану и среднее\n",
    "data['tenure'].median(), data['tenure'].mean()"
   ]
  },
  {
   "cell_type": "code",
   "execution_count": 64,
   "metadata": {},
   "outputs": [],
   "source": [
    "# заменим пропуски на медианное значение\n",
    "data['tenure'] = data['tenure'].fillna(data['tenure'].median())"
   ]
  },
  {
   "cell_type": "markdown",
   "metadata": {},
   "source": [
    "**Дубликаты**"
   ]
  },
  {
   "cell_type": "code",
   "execution_count": 65,
   "metadata": {},
   "outputs": [
    {
     "data": {
      "text/plain": [
       "0"
      ]
     },
     "execution_count": 65,
     "metadata": {},
     "output_type": "execute_result"
    }
   ],
   "source": [
    "data.duplicated().sum()"
   ]
  },
  {
   "cell_type": "code",
   "execution_count": 66,
   "metadata": {},
   "outputs": [
    {
     "data": {
      "text/plain": [
       "array(['France', 'Spain', 'Germany'], dtype=object)"
      ]
     },
     "execution_count": 66,
     "metadata": {},
     "output_type": "execute_result"
    }
   ],
   "source": [
    "# уникальные значения в столбце \"Страна проживания\" \n",
    "data['geography'].unique()"
   ]
  },
  {
   "cell_type": "code",
   "execution_count": 67,
   "metadata": {},
   "outputs": [
    {
     "data": {
      "text/plain": [
       "array(['Female', 'Male'], dtype=object)"
      ]
     },
     "execution_count": 67,
     "metadata": {},
     "output_type": "execute_result"
    }
   ],
   "source": [
    "# уникальные значения в столбце \"Пол\"\n",
    "data['gender'].unique()"
   ]
  },
  {
   "cell_type": "markdown",
   "metadata": {},
   "source": [
    "**Задействуем технику прямого кодирования, чтобы преобразовать категориальные признаки в численные.**"
   ]
  },
  {
   "cell_type": "code",
   "execution_count": 68,
   "metadata": {},
   "outputs": [],
   "source": [
    "data_ohe = pd.get_dummies(data, drop_first=True)"
   ]
  },
  {
   "cell_type": "code",
   "execution_count": 69,
   "metadata": {},
   "outputs": [
    {
     "data": {
      "text/html": [
       "<div>\n",
       "<style scoped>\n",
       "    .dataframe tbody tr th:only-of-type {\n",
       "        vertical-align: middle;\n",
       "    }\n",
       "\n",
       "    .dataframe tbody tr th {\n",
       "        vertical-align: top;\n",
       "    }\n",
       "\n",
       "    .dataframe thead th {\n",
       "        text-align: right;\n",
       "    }\n",
       "</style>\n",
       "<table border=\"1\" class=\"dataframe\">\n",
       "  <thead>\n",
       "    <tr style=\"text-align: right;\">\n",
       "      <th></th>\n",
       "      <th>credit_score</th>\n",
       "      <th>age</th>\n",
       "      <th>tenure</th>\n",
       "      <th>balance</th>\n",
       "      <th>num_of_products</th>\n",
       "      <th>has_cr_card</th>\n",
       "      <th>is_active_member</th>\n",
       "      <th>estimated_salary</th>\n",
       "      <th>exited</th>\n",
       "      <th>geography_Germany</th>\n",
       "      <th>geography_Spain</th>\n",
       "      <th>gender_Male</th>\n",
       "    </tr>\n",
       "  </thead>\n",
       "  <tbody>\n",
       "    <tr>\n",
       "      <th>0</th>\n",
       "      <td>619</td>\n",
       "      <td>42</td>\n",
       "      <td>2.0</td>\n",
       "      <td>0.00</td>\n",
       "      <td>1</td>\n",
       "      <td>1</td>\n",
       "      <td>1</td>\n",
       "      <td>101348.88</td>\n",
       "      <td>1</td>\n",
       "      <td>0</td>\n",
       "      <td>0</td>\n",
       "      <td>0</td>\n",
       "    </tr>\n",
       "    <tr>\n",
       "      <th>1</th>\n",
       "      <td>608</td>\n",
       "      <td>41</td>\n",
       "      <td>1.0</td>\n",
       "      <td>83807.86</td>\n",
       "      <td>1</td>\n",
       "      <td>0</td>\n",
       "      <td>1</td>\n",
       "      <td>112542.58</td>\n",
       "      <td>0</td>\n",
       "      <td>0</td>\n",
       "      <td>1</td>\n",
       "      <td>0</td>\n",
       "    </tr>\n",
       "    <tr>\n",
       "      <th>2</th>\n",
       "      <td>502</td>\n",
       "      <td>42</td>\n",
       "      <td>8.0</td>\n",
       "      <td>159660.80</td>\n",
       "      <td>3</td>\n",
       "      <td>1</td>\n",
       "      <td>0</td>\n",
       "      <td>113931.57</td>\n",
       "      <td>1</td>\n",
       "      <td>0</td>\n",
       "      <td>0</td>\n",
       "      <td>0</td>\n",
       "    </tr>\n",
       "    <tr>\n",
       "      <th>3</th>\n",
       "      <td>699</td>\n",
       "      <td>39</td>\n",
       "      <td>1.0</td>\n",
       "      <td>0.00</td>\n",
       "      <td>2</td>\n",
       "      <td>0</td>\n",
       "      <td>0</td>\n",
       "      <td>93826.63</td>\n",
       "      <td>0</td>\n",
       "      <td>0</td>\n",
       "      <td>0</td>\n",
       "      <td>0</td>\n",
       "    </tr>\n",
       "    <tr>\n",
       "      <th>4</th>\n",
       "      <td>850</td>\n",
       "      <td>43</td>\n",
       "      <td>2.0</td>\n",
       "      <td>125510.82</td>\n",
       "      <td>1</td>\n",
       "      <td>1</td>\n",
       "      <td>1</td>\n",
       "      <td>79084.10</td>\n",
       "      <td>0</td>\n",
       "      <td>0</td>\n",
       "      <td>1</td>\n",
       "      <td>0</td>\n",
       "    </tr>\n",
       "  </tbody>\n",
       "</table>\n",
       "</div>"
      ],
      "text/plain": [
       "   credit_score  age  tenure    balance  num_of_products  has_cr_card  \\\n",
       "0           619   42     2.0       0.00                1            1   \n",
       "1           608   41     1.0   83807.86                1            0   \n",
       "2           502   42     8.0  159660.80                3            1   \n",
       "3           699   39     1.0       0.00                2            0   \n",
       "4           850   43     2.0  125510.82                1            1   \n",
       "\n",
       "   is_active_member  estimated_salary  exited  geography_Germany  \\\n",
       "0                 1         101348.88       1                  0   \n",
       "1                 1         112542.58       0                  0   \n",
       "2                 0         113931.57       1                  0   \n",
       "3                 0          93826.63       0                  0   \n",
       "4                 1          79084.10       0                  0   \n",
       "\n",
       "   geography_Spain  gender_Male  \n",
       "0                0            0  \n",
       "1                1            0  \n",
       "2                0            0  \n",
       "3                0            0  \n",
       "4                1            0  "
      ]
     },
     "execution_count": 69,
     "metadata": {},
     "output_type": "execute_result"
    }
   ],
   "source": [
    "data_ohe.head()"
   ]
  },
  {
   "cell_type": "markdown",
   "metadata": {},
   "source": [
    "**Разобьем получившийся датасет на 3 выборки - обучающую, валидационную и тестовую.**"
   ]
  },
  {
   "cell_type": "code",
   "execution_count": 70,
   "metadata": {},
   "outputs": [],
   "source": [
    "target = data_ohe['exited']\n",
    "features = data_ohe.drop('exited', axis=1)\n",
    "\n",
    "features_train, features_rest, target_train, target_rest = train_test_split(features, target, test_size=.4, random_state=666)\n",
    "features_valid, features_test, target_valid, target_test = train_test_split(features_rest, target_rest, test_size=.5, random_state=666)"
   ]
  },
  {
   "cell_type": "code",
   "execution_count": 71,
   "metadata": {},
   "outputs": [
    {
     "name": "stdout",
     "output_type": "stream",
     "text": [
      "(6000, 11)\n",
      "(2000, 11)\n",
      "(2000, 11)\n"
     ]
    }
   ],
   "source": [
    "print(features_train.shape)\n",
    "print(features_valid.shape)\n",
    "print(features_test.shape)"
   ]
  },
  {
   "cell_type": "markdown",
   "metadata": {},
   "source": [
    "**Масштабируем признаки методом стандартизации.**"
   ]
  },
  {
   "cell_type": "code",
   "execution_count": 72,
   "metadata": {},
   "outputs": [],
   "source": [
    "numeric = ['credit_score', 'age', 'balance', 'estimated_salary', 'tenure', 'num_of_products']"
   ]
  },
  {
   "cell_type": "code",
   "execution_count": 73,
   "metadata": {
    "scrolled": true
   },
   "outputs": [
    {
     "name": "stderr",
     "output_type": "stream",
     "text": [
      "/tmp/ipykernel_129/1706106210.py:3: SettingWithCopyWarning: \n",
      "A value is trying to be set on a copy of a slice from a DataFrame.\n",
      "Try using .loc[row_indexer,col_indexer] = value instead\n",
      "\n",
      "See the caveats in the documentation: https://pandas.pydata.org/pandas-docs/stable/user_guide/indexing.html#returning-a-view-versus-a-copy\n",
      "  features_train[numeric] = scaler.transform(features_train[numeric])\n",
      "/opt/conda/lib/python3.9/site-packages/pandas/core/indexing.py:1738: SettingWithCopyWarning: \n",
      "A value is trying to be set on a copy of a slice from a DataFrame.\n",
      "Try using .loc[row_indexer,col_indexer] = value instead\n",
      "\n",
      "See the caveats in the documentation: https://pandas.pydata.org/pandas-docs/stable/user_guide/indexing.html#returning-a-view-versus-a-copy\n",
      "  self._setitem_single_column(loc, value[:, i].tolist(), pi)\n",
      "/tmp/ipykernel_129/1706106210.py:4: SettingWithCopyWarning: \n",
      "A value is trying to be set on a copy of a slice from a DataFrame.\n",
      "Try using .loc[row_indexer,col_indexer] = value instead\n",
      "\n",
      "See the caveats in the documentation: https://pandas.pydata.org/pandas-docs/stable/user_guide/indexing.html#returning-a-view-versus-a-copy\n",
      "  features_valid[numeric] = scaler.transform(features_valid[numeric])\n",
      "/opt/conda/lib/python3.9/site-packages/pandas/core/indexing.py:1738: SettingWithCopyWarning: \n",
      "A value is trying to be set on a copy of a slice from a DataFrame.\n",
      "Try using .loc[row_indexer,col_indexer] = value instead\n",
      "\n",
      "See the caveats in the documentation: https://pandas.pydata.org/pandas-docs/stable/user_guide/indexing.html#returning-a-view-versus-a-copy\n",
      "  self._setitem_single_column(loc, value[:, i].tolist(), pi)\n",
      "/tmp/ipykernel_129/1706106210.py:5: SettingWithCopyWarning: \n",
      "A value is trying to be set on a copy of a slice from a DataFrame.\n",
      "Try using .loc[row_indexer,col_indexer] = value instead\n",
      "\n",
      "See the caveats in the documentation: https://pandas.pydata.org/pandas-docs/stable/user_guide/indexing.html#returning-a-view-versus-a-copy\n",
      "  features_test[numeric] = scaler.transform(features_test[numeric])\n",
      "/opt/conda/lib/python3.9/site-packages/pandas/core/indexing.py:1738: SettingWithCopyWarning: \n",
      "A value is trying to be set on a copy of a slice from a DataFrame.\n",
      "Try using .loc[row_indexer,col_indexer] = value instead\n",
      "\n",
      "See the caveats in the documentation: https://pandas.pydata.org/pandas-docs/stable/user_guide/indexing.html#returning-a-view-versus-a-copy\n",
      "  self._setitem_single_column(loc, value[:, i].tolist(), pi)\n"
     ]
    }
   ],
   "source": [
    "scaler = StandardScaler()\n",
    "scaler.fit(features_train[numeric])\n",
    "features_train[numeric] = scaler.transform(features_train[numeric])\n",
    "features_valid[numeric] = scaler.transform(features_valid[numeric])\n",
    "features_test[numeric] = scaler.transform(features_test[numeric])"
   ]
  },
  {
   "cell_type": "markdown",
   "metadata": {},
   "source": [
    "**Вывод:**\n",
    "\n",
    "* ознакомились с данными,\n",
    "* выявили особенности датасета:\n",
    "  наличие в датасете излишних данных (столбцы RowNumber, CustomerId, Surname) - избавились\n",
    "* NaN-значения в столбце Tenure - заменили на 0\n",
    "* категориальные признаки - столбцы Geography и Gender\n",
    "* преобразовали категориальные признаки в численные с помощью техники прямого кодирования One-Hot Encoding,\n",
    "* разбили получившийся датасет на 3 выборки - обучающую, валидационную и тестовую,\n",
    "  масштабировали признаки методом стандартизации."
   ]
  },
  {
   "cell_type": "markdown",
   "metadata": {},
   "source": [
    "## Исследование задачи"
   ]
  },
  {
   "cell_type": "markdown",
   "metadata": {},
   "source": [
    "**Обучим модели и измерим accuracy.**"
   ]
  },
  {
   "cell_type": "code",
   "execution_count": 74,
   "metadata": {},
   "outputs": [
    {
     "data": {
      "text/plain": [
       "0.8135"
      ]
     },
     "execution_count": 74,
     "metadata": {},
     "output_type": "execute_result"
    }
   ],
   "source": [
    "model = LogisticRegression(random_state=666,solver = 'liblinear')\n",
    "model.fit(features_train, target_train)\n",
    "predicted_valid_lr = pd.Series(model.predict(features_valid))\n",
    "model.score(features_valid, target_valid)"
   ]
  },
  {
   "cell_type": "code",
   "execution_count": 75,
   "metadata": {},
   "outputs": [
    {
     "data": {
      "text/plain": [
       "0.8675"
      ]
     },
     "execution_count": 75,
     "metadata": {},
     "output_type": "execute_result"
    }
   ],
   "source": [
    "model = RandomForestClassifier(n_estimators=100, max_depth=8, random_state=666)\n",
    "model.fit(features_train, target_train)\n",
    "predicted_valid_forest = pd.Series(model.predict(features_valid))\n",
    "model.score(features_valid, target_valid)"
   ]
  },
  {
   "cell_type": "markdown",
   "metadata": {},
   "source": [
    "**Доля правильных ответов — 86%. Нам необходимо понять, хороший ли это результат.**\n",
    "\n",
    "**Исследуем целевой признак. Чтобы оценить адекватность модели, проверим, как часто в целевом признаке Exited встречается класс «1» или «0».**"
   ]
  },
  {
   "cell_type": "code",
   "execution_count": 76,
   "metadata": {},
   "outputs": [
    {
     "name": "stdout",
     "output_type": "stream",
     "text": [
      "0    0.7963\n",
      "1    0.2037\n",
      "Name: exited, dtype: float64\n"
     ]
    },
    {
     "data": {
      "image/png": "[encoded data removed]",
      "text/plain": [
       "<Figure size 432x288 with 1 Axes>"
      ]
     },
     "metadata": {
      "needs_background": "light"
     },
     "output_type": "display_data"
    }
   ],
   "source": [
    "class_frequency = data['exited'].value_counts(normalize=True)\n",
    "print(class_frequency)\n",
    "class_frequency.plot(kind='bar');"
   ]
  },
  {
   "cell_type": "markdown",
   "metadata": {},
   "source": [
    "**Классы несбалансированы. Видим, что клиенты уходят в 20% процентах случаев, т.е. положительный класс меньше отрицательного в 4 раза.**\n",
    "\n",
    "**Проанализируем частоты классов в результатах предсказаний обеих моделей.**"
   ]
  },
  {
   "cell_type": "code",
   "execution_count": 77,
   "metadata": {},
   "outputs": [
    {
     "name": "stdout",
     "output_type": "stream",
     "text": [
      "0    0.93\n",
      "1    0.07\n",
      "dtype: float64\n"
     ]
    },
    {
     "data": {
      "image/png": "[encoded data removed]",
      "text/plain": [
       "<Figure size 432x288 with 1 Axes>"
      ]
     },
     "metadata": {
      "needs_background": "light"
     },
     "output_type": "display_data"
    }
   ],
   "source": [
    "class_frequency_lr = predicted_valid_lr.value_counts(normalize=True)\n",
    "print(class_frequency_lr)\n",
    "class_frequency_lr.plot(kind='bar');"
   ]
  },
  {
   "cell_type": "code",
   "execution_count": 78,
   "metadata": {},
   "outputs": [
    {
     "name": "stdout",
     "output_type": "stream",
     "text": [
      "0    0.896\n",
      "1    0.104\n",
      "dtype: float64\n"
     ]
    },
    {
     "data": {
      "image/png": "[encoded data removed]",
      "text/plain": [
       "<Figure size 432x288 with 1 Axes>"
      ]
     },
     "metadata": {
      "needs_background": "light"
     },
     "output_type": "display_data"
    }
   ],
   "source": [
    "class_frequency_forest = predicted_valid_forest.value_counts(normalize=True)\n",
    "print(class_frequency_forest)\n",
    "class_frequency_forest.plot(kind='bar');"
   ]
  },
  {
   "cell_type": "markdown",
   "metadata": {},
   "source": [
    "**Модели предсказывают более оптимистичный расклад.**\n",
    "\n",
    "**Сравним их работу с константной моделью.**"
   ]
  },
  {
   "cell_type": "code",
   "execution_count": 79,
   "metadata": {},
   "outputs": [
    {
     "data": {
      "text/plain": [
       "0.7963"
      ]
     },
     "execution_count": 79,
     "metadata": {},
     "output_type": "execute_result"
    }
   ],
   "source": [
    "target_pred_constant = pd.Series(0, target.index)\n",
    "accuracy_score(target, target_pred_constant)"
   ]
  },
  {
   "cell_type": "markdown",
   "metadata": {},
   "source": [
    "**Все же построенные модели предсказывают уход клиентов лучше, чем константная модель, они адекватны. Но можно еще улучшить результат.**\n",
    "\n",
    "**Применим F1-меру (среднее гармоническое полноты и точности), чтобы оценить качество прогноза положительного класса у моделей.**"
   ]
  },
  {
   "cell_type": "code",
   "execution_count": 80,
   "metadata": {},
   "outputs": [
    {
     "data": {
      "text/plain": [
       "0.29222011385199237"
      ]
     },
     "execution_count": 80,
     "metadata": {},
     "output_type": "execute_result"
    }
   ],
   "source": [
    "f1_score(target_valid, predicted_valid_lr)"
   ]
  },
  {
   "cell_type": "code",
   "execution_count": 81,
   "metadata": {},
   "outputs": [
    {
     "data": {
      "text/plain": [
       "0.5546218487394957"
      ]
     },
     "execution_count": 81,
     "metadata": {},
     "output_type": "execute_result"
    }
   ],
   "source": [
    "f1_score(target_valid, predicted_valid_forest)"
   ]
  },
  {
   "cell_type": "markdown",
   "metadata": {},
   "source": [
    "**Вывод:**\n",
    "\n",
    "* исследовали баланс классов - классы несбалансированы,\n",
    "* выяснили, что клиенты уходят в 20% процентах случаев, те положительный класс меньше отрицательного в 4 раза,\n",
    "* изучили модели без учёта дисбаланса\n",
    "* выяснили, что результат работы модели случайного леса лучше (возможно, только пока).\n",
    "* Постараемся достичь F1 не менее 0.59."
   ]
  },
  {
   "cell_type": "markdown",
   "metadata": {},
   "source": [
    "## Борьба с дисбалансом"
   ]
  },
  {
   "cell_type": "markdown",
   "metadata": {},
   "source": [
    "**class_weight**\n",
    "* сбалансируем классы с помощью аргумента class_weight."
   ]
  },
  {
   "cell_type": "code",
   "execution_count": 82,
   "metadata": {},
   "outputs": [
    {
     "data": {
      "text/plain": [
       "0.4784520668425682"
      ]
     },
     "execution_count": 82,
     "metadata": {},
     "output_type": "execute_result"
    }
   ],
   "source": [
    "model = LogisticRegression(random_state=666, solver = 'liblinear', class_weight='balanced')\n",
    "model.fit(features_train, target_train)\n",
    "predicted_valid_lr = pd.Series(model.predict(features_valid))\n",
    "f1_score(target_valid, predicted_valid_lr)"
   ]
  },
  {
   "cell_type": "code",
   "execution_count": 83,
   "metadata": {},
   "outputs": [
    {
     "data": {
      "text/plain": [
       "0.5913242009132421"
      ]
     },
     "execution_count": 83,
     "metadata": {},
     "output_type": "execute_result"
    }
   ],
   "source": [
    "model = RandomForestClassifier(n_estimators=100, max_depth=8, random_state=666, class_weight='balanced')\n",
    "model.fit(features_train, target_train)\n",
    "predicted_valid_forest = pd.Series(model.predict(features_valid))\n",
    "f1_score(target_valid, predicted_valid_forest)"
   ]
  },
  {
   "cell_type": "markdown",
   "metadata": {},
   "source": [
    "Мера F1 выглядит намного лучше, у модели LogisticRegression она увеличилась почти в 2 раза."
   ]
  },
  {
   "cell_type": "markdown",
   "metadata": {},
   "source": [
    "**Уменьшение выборки**"
   ]
  },
  {
   "cell_type": "markdown",
   "metadata": {},
   "source": [
    "Сделаем объекты частого класса (0) не такими частыми. Для этого напишем функцию downsample."
   ]
  },
  {
   "cell_type": "code",
   "execution_count": 84,
   "metadata": {},
   "outputs": [],
   "source": [
    "def downsample(features, target, fraction):\n",
    "    features_zeros = features[target == 0]\n",
    "    features_ones = features[target == 1]\n",
    "    target_zeros = target[target == 0]\n",
    "    target_ones = target[target == 1]\n",
    "\n",
    "    features_downsampled = pd.concat(\n",
    "        [features_zeros.sample(frac=fraction, random_state=666)] + [features_ones])\n",
    "    target_downsampled = pd.concat(\n",
    "        [target_zeros.sample(frac=fraction, random_state=666)] + [target_ones])\n",
    "    \n",
    "    features_downsampled, target_downsampled = shuffle(\n",
    "        features_downsampled, target_downsampled, random_state=666)\n",
    "    \n",
    "    return features_downsampled, target_downsampled"
   ]
  },
  {
   "cell_type": "code",
   "execution_count": 85,
   "metadata": {},
   "outputs": [],
   "source": [
    "features_downsampled, target_downsampled = downsample(features_train, target_train, 0.25)"
   ]
  },
  {
   "cell_type": "code",
   "execution_count": 86,
   "metadata": {},
   "outputs": [
    {
     "data": {
      "text/plain": [
       "0.47291487532244203"
      ]
     },
     "execution_count": 86,
     "metadata": {},
     "output_type": "execute_result"
    }
   ],
   "source": [
    "model = LogisticRegression(random_state=666, solver = 'liblinear')\n",
    "model.fit(features_downsampled, target_downsampled)\n",
    "predicted_valid_downsampled_lr = model.predict(features_valid)\n",
    "f1_score(target_valid, predicted_valid_downsampled_lr)"
   ]
  },
  {
   "cell_type": "code",
   "execution_count": 87,
   "metadata": {},
   "outputs": [
    {
     "data": {
      "text/plain": [
       "0.573982125124131"
      ]
     },
     "execution_count": 87,
     "metadata": {},
     "output_type": "execute_result"
    }
   ],
   "source": [
    "model = RandomForestClassifier(n_estimators=100, max_depth=8, random_state=666)\n",
    "model.fit(features_downsampled, target_downsampled)\n",
    "predicted_valid_downsampled_forest = model.predict(features_valid)\n",
    "f1_score(target_valid, predicted_valid_downsampled_forest)"
   ]
  },
  {
   "cell_type": "markdown",
   "metadata": {},
   "source": [
    "Уменьшение выборки дает результаты хуже. Попробуем изменить порог."
   ]
  },
  {
   "cell_type": "markdown",
   "metadata": {},
   "source": [
    "**Изменение порога**"
   ]
  },
  {
   "cell_type": "markdown",
   "metadata": {},
   "source": [
    "Попробуем изменить значение порога и посмотрим, как изменится F1."
   ]
  },
  {
   "cell_type": "code",
   "execution_count": 88,
   "metadata": {},
   "outputs": [],
   "source": [
    "model = LogisticRegression(random_state=666, solver='liblinear')\n",
    "model.fit(features_train, target_train)\n",
    "probabilities_valid_lr = model.predict_proba(features_valid)\n",
    "probabilities_one_valid_lr = probabilities_valid_lr[:, 1]"
   ]
  },
  {
   "cell_type": "code",
   "execution_count": 89,
   "metadata": {},
   "outputs": [],
   "source": [
    "#напишем функцию для автоматизации подсчета F1 при разном значении порога\n",
    "def count_threshold (probabilities_one_valid):\n",
    "    for threshold in np.arange(0, 0.6, 0.05):\n",
    "        predicted_valid = probabilities_one_valid > threshold\n",
    "        f1 = f1_score(target_valid, predicted_valid)\n",
    "        print(\"Порог = {:.2f} | F1 = {:.3f}\".format(\n",
    "        threshold, f1))"
   ]
  },
  {
   "cell_type": "code",
   "execution_count": 90,
   "metadata": {},
   "outputs": [
    {
     "name": "stdout",
     "output_type": "stream",
     "text": [
      "Порог = 0.00 | F1 = 0.324\n",
      "Порог = 0.05 | F1 = 0.348\n",
      "Порог = 0.10 | F1 = 0.390\n",
      "Порог = 0.15 | F1 = 0.433\n",
      "Порог = 0.20 | F1 = 0.470\n",
      "Порог = 0.25 | F1 = 0.461\n",
      "Порог = 0.30 | F1 = 0.473\n",
      "Порог = 0.35 | F1 = 0.445\n",
      "Порог = 0.40 | F1 = 0.401\n",
      "Порог = 0.45 | F1 = 0.351\n",
      "Порог = 0.50 | F1 = 0.292\n",
      "Порог = 0.55 | F1 = 0.253\n"
     ]
    }
   ],
   "source": [
    "count_threshold(probabilities_one_valid_lr)"
   ]
  },
  {
   "cell_type": "code",
   "execution_count": 91,
   "metadata": {},
   "outputs": [],
   "source": [
    "model = RandomForestClassifier(n_estimators=100, max_depth=8, random_state=666)\n",
    "model.fit(features_train, target_train)\n",
    "probabilities_valid_forest = model.predict_proba(features_valid)\n",
    "probabilities_one_valid_forest = probabilities_valid_forest[:, 1]"
   ]
  },
  {
   "cell_type": "code",
   "execution_count": 92,
   "metadata": {},
   "outputs": [
    {
     "name": "stdout",
     "output_type": "stream",
     "text": [
      "Порог = 0.00 | F1 = 0.324\n",
      "Порог = 0.05 | F1 = 0.359\n",
      "Порог = 0.10 | F1 = 0.439\n",
      "Порог = 0.15 | F1 = 0.517\n",
      "Порог = 0.20 | F1 = 0.574\n",
      "Порог = 0.25 | F1 = 0.595\n",
      "Порог = 0.30 | F1 = 0.609\n",
      "Порог = 0.35 | F1 = 0.594\n",
      "Порог = 0.40 | F1 = 0.567\n",
      "Порог = 0.45 | F1 = 0.557\n",
      "Порог = 0.50 | F1 = 0.555\n",
      "Порог = 0.55 | F1 = 0.530\n"
     ]
    }
   ],
   "source": [
    "count_threshold(probabilities_one_valid_forest)"
   ]
  },
  {
   "cell_type": "markdown",
   "metadata": {},
   "source": [
    "Изменение порога показывает результаты лучше, чем уменьшение выборки.\n",
    "\n",
    "Для модели RandomForestClassifier найдем значения **n_estimators** и **max_depth**, при которых она будет показывать лучшие результаты."
   ]
  },
  {
   "cell_type": "code",
   "execution_count": 93,
   "metadata": {},
   "outputs": [
    {
     "name": "stdout",
     "output_type": "stream",
     "text": [
      "Accuracy при max_depth = 5\n",
      "Обучающая выборка: 0.8588333333333333\n",
      "Валидационная выборка: 0.86\n",
      "\n",
      "Accuracy при max_depth = 6\n",
      "Обучающая выборка: 0.865\n",
      "Валидационная выборка: 0.8615\n",
      "\n",
      "Accuracy при max_depth = 7\n",
      "Обучающая выборка: 0.869\n",
      "Валидационная выборка: 0.863\n",
      "\n",
      "Accuracy при max_depth = 8\n",
      "Обучающая выборка: 0.8818333333333334\n",
      "Валидационная выборка: 0.8675\n",
      "\n",
      "Accuracy при max_depth = 9\n",
      "Обучающая выборка: 0.8888333333333334\n",
      "Валидационная выборка: 0.8655\n",
      "\n",
      "Accuracy при max_depth = 10\n",
      "Обучающая выборка: 0.9001666666666667\n",
      "Валидационная выборка: 0.8605\n",
      "\n"
     ]
    }
   ],
   "source": [
    "for depth in range(5, 11, 1):\n",
    "    model = RandomForestClassifier(random_state=666, n_estimators=20, max_depth=depth)\n",
    "    model.fit(features_train, target_train)\n",
    "    predictions_train_def = model.predict(features_train)\n",
    "    predictions_valid_def = model.predict(features_valid)\n",
    "    print(\"Accuracy при max_depth =\", depth)\n",
    "    print(\"Обучающая выборка:\", accuracy_score(target_train, predictions_train_def))\n",
    "    print(\"Валидационная выборка:\", accuracy_score(target_valid, predictions_valid_def))\n",
    "    print()"
   ]
  },
  {
   "cell_type": "code",
   "execution_count": 94,
   "metadata": {},
   "outputs": [
    {
     "name": "stdout",
     "output_type": "stream",
     "text": [
      "Accuracy при n_estimators = 40\n",
      "Обучающая выборка: 0.8681666666666666\n",
      "Валидационная выборка: 0.8625\n",
      "\n",
      "Accuracy при n_estimators = 60\n",
      "Обучающая выборка: 0.8708333333333333\n",
      "Валидационная выборка: 0.8645\n",
      "\n",
      "Accuracy при n_estimators = 80\n",
      "Обучающая выборка: 0.8741666666666666\n",
      "Валидационная выборка: 0.864\n",
      "\n",
      "Accuracy при n_estimators = 100\n",
      "Обучающая выборка: 0.874\n",
      "Валидационная выборка: 0.8645\n",
      "\n",
      "Accuracy при n_estimators = 120\n",
      "Обучающая выборка: 0.8738333333333334\n",
      "Валидационная выборка: 0.8645\n",
      "\n"
     ]
    }
   ],
   "source": [
    "for estim in range(40, 140, 20):\n",
    "    model = RandomForestClassifier(random_state=666, n_estimators=estim, max_depth = 7)\n",
    "    model.fit(features_train, target_train)\n",
    "    predictions_train_def2 = model.predict(features_train)\n",
    "    predictions_valid_def2 = model.predict(features_valid)\n",
    "    print(\"Accuracy при n_estimators =\", estim)\n",
    "    print(\"Обучающая выборка:\", accuracy_score(target_train, predictions_train_def2))\n",
    "    print(\"Валидационная выборка:\", accuracy_score(target_valid, predictions_valid_def2))\n",
    "    print()"
   ]
  },
  {
   "cell_type": "markdown",
   "metadata": {},
   "source": [
    "**Вывод:**\n",
    "\n",
    "* лучшие результаты показал способы борьбы с дисбалансом class_weight, применим его\n",
    "* работать дальше будем с моделью RandomForestClassifier со значением n_estimators = 40 и max_depth = 9"
   ]
  },
  {
   "cell_type": "markdown",
   "metadata": {},
   "source": [
    "## Тестирование модели"
   ]
  },
  {
   "cell_type": "markdown",
   "metadata": {},
   "source": [
    "Обучим финальную модель и проверим её на тестовой выборке."
   ]
  },
  {
   "cell_type": "code",
   "execution_count": 95,
   "metadata": {},
   "outputs": [
    {
     "data": {
      "text/plain": [
       "0.6122448979591836"
      ]
     },
     "execution_count": 95,
     "metadata": {},
     "output_type": "execute_result"
    }
   ],
   "source": [
    "model_final = RandomForestClassifier(random_state=666, n_estimators=40, max_depth = 9, class_weight='balanced')\n",
    "model_final.fit(features_train, target_train)\n",
    "predicted_test = model_final.predict(features_test)\n",
    "f1_score(target_test, predicted_test)"
   ]
  },
  {
   "cell_type": "markdown",
   "metadata": {},
   "source": [
    "Нужное значение F1-меры достигнуто.\n",
    "\n",
    "Посчитаем площадь под ROC-кривой для модели (AUC-ROC), чтобы узнать, насколько сильно ее точность отличается от случайной."
   ]
  },
  {
   "cell_type": "code",
   "execution_count": 96,
   "metadata": {},
   "outputs": [
    {
     "data": {
      "text/plain": [
       "0.5124720949640884"
      ]
     },
     "execution_count": 96,
     "metadata": {},
     "output_type": "execute_result"
    }
   ],
   "source": [
    "probabilities_valid_final = model_final.predict_proba(features_valid)\n",
    "probabilities_one_valid_final = probabilities_valid_final[:, 1]\n",
    "roc_auc_score(target_test, probabilities_one_valid_final)"
   ]
  },
  {
   "cell_type": "markdown",
   "metadata": {},
   "source": [
    "Метрика AUC-ROC почти не отличается от значения для случайной модели (0.5). F1 оценила построенную модель выше."
   ]
  },
  {
   "cell_type": "markdown",
   "metadata": {},
   "source": [
    "Общий вывод\n",
    "Ознакомились с данными и подготовили их к исследованию (преобразовали категориальные признаки в численные с помощью техники прямого кодирования One-Hot Encoding,разбили получившийся датасет на 3 выборки - обучающую, валидационную и тестовую, масштабировали признаки методом стандартизации).\n",
    "\n",
    "Исследовали баланс классов - они оказались несбалансированы, изучили модели без учёта дисбаланса, выяснили, что результат работы модели случайного леса лучше.\n",
    "\n",
    "Применили 3 способа борбы с дисбалансом - аргумент class_weight, уменьшение выборки и изменение порога. Лучшие результаты показал способы борьбы с дисбалансом class_weight. Выявили лучшие значения n_estimators и max_depth для модели случайного леса.\n",
    "\n",
    "Обучили финальную модель и проверили ее на тестовой выборке. Достигли значения F1 = 0.61. Исследовали метрику AUC-ROC - ее значение в данном случае почти не отличается от значения для случайной модели (0.5)"
   ]
  },
  {
   "cell_type": "markdown",
   "metadata": {},
   "source": [
    "**Общий вывод**"
   ]
  },
  {
   "cell_type": "markdown",
   "metadata": {},
   "source": [
    "Проведено прогнозирование оттока клиентов банка на основе исторических данных поведения клиентов."
   ]
  },
  {
   "cell_type": "markdown",
   "metadata": {},
   "source": [
    "* Построена модель с предельно большим значением F1-меры\n",
    "\n",
    "* В рамках подготовки данных скорректированы наименования полей, проанализированы выбросы и дубликаты, проработаны проработаны пропуски.\n",
    "\n",
    "* Категориальные признаки переведены в дамми переменные.\n",
    "\n",
    "* Для борьбы с дисбалансом использована техника upsampling, что позволило поднять показатель f1 в 4.5 раза. Поэтому для дальнейшего прогноза были использованы данные features_upsampled, target_upsampled полученные с помощью техники upsampling.\n",
    "\n",
    "* Проведен выбор лучшей модели для дальнейшего прогнозирования. Проанализированы модели LogisticRegression, DecisionTreeClassifier, RandomForestClassifier\n",
    "\n",
    "* При сравнении базовых моделей, без дополнительных гиперпараметров, наилучший результат по F1 показала модель случайного леса. Далее будем использовать её для подбора оптимальных гиперпараметров. Наилучший показаталь модель случайного леса на тестовой модели f1 = 0.599 при гиперпараметрах Глубина = 11 Количество деревьев = 100\n",
    "\n",
    "* Проведена проверка модели на адекватность, путём сравнения со случайной моделью.\n",
    "\n",
    "* Доля правильных ответов accuracy в полученной модели 0.822 Доля правильных ответов accuracy в случайной модели 0.7885\n",
    "\n",
    "* Проверка на адекватность показала, что доля правильных ответов accuracy в полученной модели выше чем аналогичный показатель случайной модели. Делаем вывод, что полученная нами модель является полезной.\n",
    "\n",
    "* Дополнительно построена ROC - кривая, и измерена AUC-ROC = 0.8557"
   ]
  },
  {
   "cell_type": "markdown",
   "metadata": {},
   "source": [
    "## Чек-лист готовности проекта"
   ]
  },
  {
   "cell_type": "markdown",
   "metadata": {},
   "source": [
    "Поставьте 'x' в выполненных пунктах. Далее нажмите Shift+Enter."
   ]
  },
  {
   "cell_type": "markdown",
   "metadata": {},
   "source": [
    "- [x]  Jupyter Notebook открыт\n",
    "- [x]  Весь код выполняется без ошибок\n",
    "- [x]  Ячейки с кодом расположены в порядке исполнения\n",
    "- [x]  Выполнен шаг 1: данные подготовлены\n",
    "- [x]  Выполнен шаг 2: задача исследована\n",
    "    - [x]  Исследован баланс классов\n",
    "    - [x]  Изучены модели без учёта дисбаланса\n",
    "    - [x]  Написаны выводы по результатам исследования\n",
    "- [x]  Выполнен шаг 3: учтён дисбаланс\n",
    "    - [x]  Применено несколько способов борьбы с дисбалансом\n",
    "    - [x]  Написаны выводы по результатам исследования\n",
    "- [x]  Выполнен шаг 4: проведено тестирование\n",
    "- [x]  Удалось достичь *F1*-меры не менее 0.59\n",
    "- [x]  Исследована метрика *AUC-ROC*"
   ]
  }
 ],
 "metadata": {
  "ExecuteTimeLog": [
   {
    "duration": 9,
    "start_time": "2023-07-05T13:24:42.774Z"
   },
   {
    "duration": 4,
    "start_time": "2023-07-05T13:24:53.033Z"
   },
   {
    "duration": 4,
    "start_time": "2023-07-05T13:25:37.948Z"
   },
   {
    "duration": 4,
    "start_time": "2023-07-05T13:25:43.922Z"
   },
   {
    "duration": 4,
    "start_time": "2023-07-05T13:28:57.101Z"
   },
   {
    "duration": 533,
    "start_time": "2023-07-05T13:29:22.974Z"
   },
   {
    "duration": 1482,
    "start_time": "2023-07-05T13:31:37.126Z"
   },
   {
    "duration": 2,
    "start_time": "2023-07-05T13:32:04.685Z"
   },
   {
    "duration": 3,
    "start_time": "2023-07-05T13:32:17.065Z"
   },
   {
    "duration": 4,
    "start_time": "2023-07-05T13:32:31.158Z"
   },
   {
    "duration": 3,
    "start_time": "2023-07-05T13:32:32.560Z"
   },
   {
    "duration": 4,
    "start_time": "2023-07-05T13:32:34.351Z"
   },
   {
    "duration": 207,
    "start_time": "2023-07-05T13:32:57.085Z"
   },
   {
    "duration": 1652,
    "start_time": "2023-07-05T16:42:35.890Z"
   },
   {
    "duration": 945,
    "start_time": "2023-07-05T16:42:41.961Z"
   },
   {
    "duration": 4,
    "start_time": "2023-07-05T16:43:17.653Z"
   },
   {
    "duration": 352,
    "start_time": "2023-07-05T16:43:55.459Z"
   },
   {
    "duration": 21,
    "start_time": "2023-07-05T16:43:57.166Z"
   },
   {
    "duration": 15,
    "start_time": "2023-07-05T16:45:30.216Z"
   },
   {
    "duration": 43,
    "start_time": "2023-07-05T16:45:32.677Z"
   },
   {
    "duration": 1253,
    "start_time": "2023-07-05T16:49:37.216Z"
   },
   {
    "duration": 1292,
    "start_time": "2023-07-05T16:50:18.135Z"
   },
   {
    "duration": 9,
    "start_time": "2023-07-05T16:51:00.036Z"
   },
   {
    "duration": 4,
    "start_time": "2023-07-05T16:51:37.034Z"
   },
   {
    "duration": 9,
    "start_time": "2023-07-05T16:51:46.801Z"
   },
   {
    "duration": 6,
    "start_time": "2023-07-05T16:59:01.027Z"
   },
   {
    "duration": 5,
    "start_time": "2023-07-05T16:59:02.500Z"
   },
   {
    "duration": 86,
    "start_time": "2023-07-05T16:59:03.462Z"
   },
   {
    "duration": 17,
    "start_time": "2023-07-05T16:59:04.697Z"
   },
   {
    "duration": 15,
    "start_time": "2023-07-05T16:59:06.855Z"
   },
   {
    "duration": 49,
    "start_time": "2023-07-05T16:59:09.189Z"
   },
   {
    "duration": 1179,
    "start_time": "2023-07-05T16:59:14.373Z"
   },
   {
    "duration": 1379,
    "start_time": "2023-07-05T16:59:31.002Z"
   },
   {
    "duration": 9,
    "start_time": "2023-07-05T16:59:40.551Z"
   },
   {
    "duration": 367,
    "start_time": "2023-07-05T17:00:04.080Z"
   },
   {
    "duration": 5,
    "start_time": "2023-07-05T17:00:12.633Z"
   },
   {
    "duration": 9,
    "start_time": "2023-07-05T17:00:15.150Z"
   },
   {
    "duration": 6,
    "start_time": "2023-07-05T17:02:09.253Z"
   },
   {
    "duration": 5,
    "start_time": "2023-07-05T17:52:09.049Z"
   },
   {
    "duration": 14,
    "start_time": "2023-07-05T17:52:09.401Z"
   },
   {
    "duration": 14,
    "start_time": "2023-07-05T17:52:09.895Z"
   },
   {
    "duration": 10,
    "start_time": "2023-07-05T17:52:13.890Z"
   },
   {
    "duration": 15,
    "start_time": "2023-07-05T17:52:16.800Z"
   },
   {
    "duration": 21,
    "start_time": "2023-07-05T17:52:18.159Z"
   },
   {
    "duration": 5,
    "start_time": "2023-07-05T17:52:20.603Z"
   },
   {
    "duration": 5,
    "start_time": "2023-07-05T17:52:21.430Z"
   },
   {
    "duration": 5,
    "start_time": "2023-07-05T17:52:22.321Z"
   },
   {
    "duration": 5,
    "start_time": "2023-07-05T17:52:24.288Z"
   },
   {
    "duration": 132,
    "start_time": "2023-07-05T17:52:36.089Z"
   },
   {
    "duration": 124,
    "start_time": "2023-07-05T17:52:53.132Z"
   },
   {
    "duration": 8,
    "start_time": "2023-07-05T17:52:59.953Z"
   },
   {
    "duration": 114,
    "start_time": "2023-07-05T17:53:01.306Z"
   },
   {
    "duration": 171,
    "start_time": "2023-07-05T17:53:07.046Z"
   },
   {
    "duration": 159,
    "start_time": "2023-07-05T17:53:11.753Z"
   },
   {
    "duration": 33,
    "start_time": "2023-07-05T17:53:23.142Z"
   },
   {
    "duration": 10,
    "start_time": "2023-07-05T17:53:26.745Z"
   },
   {
    "duration": 21147,
    "start_time": "2023-07-05T17:53:32.850Z"
   },
   {
    "duration": 386,
    "start_time": "2023-07-05T17:53:53.999Z"
   },
   {
    "duration": 15,
    "start_time": "2023-07-05T17:53:54.392Z"
   },
   {
    "duration": 63,
    "start_time": "2023-07-05T17:53:54.410Z"
   },
   {
    "duration": 1293,
    "start_time": "2023-07-05T18:31:53.210Z"
   },
   {
    "duration": 4,
    "start_time": "2023-07-05T18:31:54.505Z"
   },
   {
    "duration": 316,
    "start_time": "2023-07-05T18:31:54.511Z"
   },
   {
    "duration": 48,
    "start_time": "2023-07-05T18:31:54.830Z"
   },
   {
    "duration": 11,
    "start_time": "2023-07-05T18:31:54.885Z"
   },
   {
    "duration": 27,
    "start_time": "2023-07-05T18:31:54.898Z"
   },
   {
    "duration": 5,
    "start_time": "2023-07-05T18:31:54.927Z"
   },
   {
    "duration": 5,
    "start_time": "2023-07-05T18:31:54.934Z"
   },
   {
    "duration": 17,
    "start_time": "2023-07-05T18:31:54.940Z"
   },
   {
    "duration": 19,
    "start_time": "2023-07-05T18:31:54.964Z"
   },
   {
    "duration": 2220,
    "start_time": "2023-07-05T18:31:54.985Z"
   },
   {
    "duration": 10,
    "start_time": "2023-07-05T18:31:57.207Z"
   },
   {
    "duration": 9,
    "start_time": "2023-07-05T18:31:57.220Z"
   },
   {
    "duration": 11,
    "start_time": "2023-07-05T18:31:57.231Z"
   },
   {
    "duration": 27,
    "start_time": "2023-07-05T18:31:57.244Z"
   },
   {
    "duration": 13,
    "start_time": "2023-07-05T18:31:57.278Z"
   },
   {
    "duration": 15,
    "start_time": "2023-07-05T18:31:57.292Z"
   },
   {
    "duration": 6,
    "start_time": "2023-07-05T18:31:57.309Z"
   },
   {
    "duration": 25,
    "start_time": "2023-07-05T18:31:57.316Z"
   },
   {
    "duration": 4,
    "start_time": "2023-07-05T18:31:57.343Z"
   },
   {
    "duration": 30,
    "start_time": "2023-07-05T18:31:57.349Z"
   },
   {
    "duration": 13,
    "start_time": "2023-07-05T18:31:57.380Z"
   },
   {
    "duration": 16,
    "start_time": "2023-07-05T18:31:57.396Z"
   },
   {
    "duration": 48,
    "start_time": "2023-07-05T18:31:57.414Z"
   },
   {
    "duration": 5,
    "start_time": "2023-07-05T18:31:57.464Z"
   },
   {
    "duration": 18,
    "start_time": "2023-07-05T18:31:57.471Z"
   },
   {
    "duration": 17,
    "start_time": "2023-07-05T18:31:57.494Z"
   },
   {
    "duration": 19,
    "start_time": "2023-07-05T18:31:57.515Z"
   },
   {
    "duration": 7,
    "start_time": "2023-07-05T18:31:57.536Z"
   },
   {
    "duration": 108,
    "start_time": "2023-07-05T18:31:57.545Z"
   },
   {
    "duration": 0,
    "start_time": "2023-07-05T18:31:57.655Z"
   },
   {
    "duration": 0,
    "start_time": "2023-07-05T18:31:57.657Z"
   },
   {
    "duration": 0,
    "start_time": "2023-07-05T18:31:57.658Z"
   },
   {
    "duration": 0,
    "start_time": "2023-07-05T18:31:57.664Z"
   },
   {
    "duration": 0,
    "start_time": "2023-07-05T18:31:57.665Z"
   },
   {
    "duration": 0,
    "start_time": "2023-07-05T18:31:57.666Z"
   },
   {
    "duration": 0,
    "start_time": "2023-07-05T18:31:57.670Z"
   },
   {
    "duration": 0,
    "start_time": "2023-07-05T18:31:57.670Z"
   },
   {
    "duration": 0,
    "start_time": "2023-07-05T18:31:57.671Z"
   },
   {
    "duration": 0,
    "start_time": "2023-07-05T18:31:57.674Z"
   },
   {
    "duration": 0,
    "start_time": "2023-07-05T18:31:57.675Z"
   },
   {
    "duration": 0,
    "start_time": "2023-07-05T18:31:57.680Z"
   },
   {
    "duration": 0,
    "start_time": "2023-07-05T18:31:57.681Z"
   },
   {
    "duration": 1,
    "start_time": "2023-07-05T18:31:57.681Z"
   },
   {
    "duration": 0,
    "start_time": "2023-07-05T18:31:57.682Z"
   },
   {
    "duration": 0,
    "start_time": "2023-07-05T18:31:57.686Z"
   },
   {
    "duration": 0,
    "start_time": "2023-07-05T18:31:57.687Z"
   },
   {
    "duration": 0,
    "start_time": "2023-07-05T18:31:57.688Z"
   },
   {
    "duration": 0,
    "start_time": "2023-07-05T18:31:57.688Z"
   },
   {
    "duration": 0,
    "start_time": "2023-07-05T18:31:57.689Z"
   },
   {
    "duration": 0,
    "start_time": "2023-07-05T18:31:57.690Z"
   },
   {
    "duration": 0,
    "start_time": "2023-07-05T18:31:57.692Z"
   },
   {
    "duration": 0,
    "start_time": "2023-07-05T18:31:57.692Z"
   },
   {
    "duration": 0,
    "start_time": "2023-07-05T18:31:57.693Z"
   },
   {
    "duration": 0,
    "start_time": "2023-07-05T18:31:57.694Z"
   },
   {
    "duration": 0,
    "start_time": "2023-07-05T18:31:57.695Z"
   },
   {
    "duration": 0,
    "start_time": "2023-07-05T18:31:57.699Z"
   },
   {
    "duration": 0,
    "start_time": "2023-07-05T18:31:57.700Z"
   },
   {
    "duration": 0,
    "start_time": "2023-07-05T18:31:57.701Z"
   },
   {
    "duration": 0,
    "start_time": "2023-07-05T18:31:57.702Z"
   },
   {
    "duration": 0,
    "start_time": "2023-07-05T18:31:57.703Z"
   },
   {
    "duration": 0,
    "start_time": "2023-07-05T18:31:57.704Z"
   },
   {
    "duration": 0,
    "start_time": "2023-07-05T18:31:57.705Z"
   },
   {
    "duration": 0,
    "start_time": "2023-07-05T18:31:57.708Z"
   },
   {
    "duration": 0,
    "start_time": "2023-07-05T18:31:57.710Z"
   },
   {
    "duration": 0,
    "start_time": "2023-07-05T18:31:57.711Z"
   },
   {
    "duration": 0,
    "start_time": "2023-07-05T18:31:57.712Z"
   },
   {
    "duration": 0,
    "start_time": "2023-07-05T18:31:57.714Z"
   },
   {
    "duration": 0,
    "start_time": "2023-07-05T18:31:57.715Z"
   },
   {
    "duration": 0,
    "start_time": "2023-07-05T18:31:57.716Z"
   },
   {
    "duration": 0,
    "start_time": "2023-07-05T18:31:57.717Z"
   },
   {
    "duration": 0,
    "start_time": "2023-07-05T18:31:57.759Z"
   },
   {
    "duration": 0,
    "start_time": "2023-07-05T18:31:57.760Z"
   },
   {
    "duration": 0,
    "start_time": "2023-07-05T18:31:57.761Z"
   },
   {
    "duration": 0,
    "start_time": "2023-07-05T18:31:57.763Z"
   },
   {
    "duration": 0,
    "start_time": "2023-07-05T18:31:57.765Z"
   },
   {
    "duration": 0,
    "start_time": "2023-07-05T18:31:57.766Z"
   },
   {
    "duration": 0,
    "start_time": "2023-07-05T18:31:57.767Z"
   },
   {
    "duration": 0,
    "start_time": "2023-07-05T18:31:57.769Z"
   },
   {
    "duration": 0,
    "start_time": "2023-07-05T18:31:57.770Z"
   },
   {
    "duration": 0,
    "start_time": "2023-07-05T18:31:57.772Z"
   },
   {
    "duration": 0,
    "start_time": "2023-07-05T18:31:57.773Z"
   },
   {
    "duration": 0,
    "start_time": "2023-07-05T18:31:57.774Z"
   },
   {
    "duration": 0,
    "start_time": "2023-07-05T18:31:57.776Z"
   },
   {
    "duration": 0,
    "start_time": "2023-07-05T18:31:57.777Z"
   },
   {
    "duration": 0,
    "start_time": "2023-07-05T18:31:57.778Z"
   },
   {
    "duration": 7,
    "start_time": "2023-07-05T18:32:48.010Z"
   },
   {
    "duration": 9,
    "start_time": "2023-07-05T18:32:54.322Z"
   },
   {
    "duration": 6,
    "start_time": "2023-07-05T18:32:54.580Z"
   },
   {
    "duration": 5,
    "start_time": "2023-07-05T18:32:54.737Z"
   },
   {
    "duration": 7,
    "start_time": "2023-07-05T18:32:55.146Z"
   },
   {
    "duration": 170,
    "start_time": "2023-07-05T18:32:55.322Z"
   },
   {
    "duration": 13,
    "start_time": "2023-07-05T18:32:55.712Z"
   },
   {
    "duration": 4,
    "start_time": "2023-07-05T18:32:55.908Z"
   },
   {
    "duration": 5,
    "start_time": "2023-07-05T18:32:56.084Z"
   },
   {
    "duration": 9,
    "start_time": "2023-07-05T18:32:56.275Z"
   },
   {
    "duration": 9,
    "start_time": "2023-07-05T18:32:56.439Z"
   },
   {
    "duration": 3,
    "start_time": "2023-07-05T18:32:56.612Z"
   },
   {
    "duration": 22,
    "start_time": "2023-07-05T18:32:56.816Z"
   },
   {
    "duration": 17,
    "start_time": "2023-07-05T18:32:56.991Z"
   },
   {
    "duration": 109,
    "start_time": "2023-07-05T18:32:57.149Z"
   },
   {
    "duration": 120,
    "start_time": "2023-07-05T18:32:57.332Z"
   },
   {
    "duration": 4,
    "start_time": "2023-07-05T18:32:57.537Z"
   },
   {
    "duration": 11,
    "start_time": "2023-07-05T18:32:57.725Z"
   },
   {
    "duration": 9,
    "start_time": "2023-07-05T18:32:57.914Z"
   },
   {
    "duration": 9,
    "start_time": "2023-07-05T18:32:58.101Z"
   },
   {
    "duration": 3,
    "start_time": "2023-07-05T18:32:58.496Z"
   },
   {
    "duration": 40,
    "start_time": "2023-07-05T18:32:58.690Z"
   },
   {
    "duration": 7,
    "start_time": "2023-07-05T18:32:58.884Z"
   },
   {
    "duration": 11,
    "start_time": "2023-07-05T18:32:59.079Z"
   },
   {
    "duration": 5,
    "start_time": "2023-07-05T18:32:59.646Z"
   },
   {
    "duration": 9,
    "start_time": "2023-07-05T18:32:59.844Z"
   },
   {
    "duration": 6,
    "start_time": "2023-07-05T18:33:00.030Z"
   },
   {
    "duration": 3,
    "start_time": "2023-07-05T18:33:00.242Z"
   },
   {
    "duration": 168,
    "start_time": "2023-07-05T18:33:00.425Z"
   },
   {
    "duration": 18,
    "start_time": "2023-07-05T18:33:00.659Z"
   },
   {
    "duration": 80,
    "start_time": "2023-07-05T18:33:00.793Z"
   },
   {
    "duration": 3,
    "start_time": "2023-07-05T18:33:01.350Z"
   },
   {
    "duration": 20,
    "start_time": "2023-07-05T18:33:01.534Z"
   },
   {
    "duration": 8,
    "start_time": "2023-07-05T18:33:01.687Z"
   },
   {
    "duration": 12,
    "start_time": "2023-07-05T18:33:01.877Z"
   },
   {
    "duration": 3,
    "start_time": "2023-07-05T18:33:02.418Z"
   },
   {
    "duration": 40,
    "start_time": "2023-07-05T18:33:02.608Z"
   },
   {
    "duration": 7,
    "start_time": "2023-07-05T18:33:02.787Z"
   },
   {
    "duration": 8,
    "start_time": "2023-07-05T18:33:02.956Z"
   },
   {
    "duration": 11,
    "start_time": "2023-07-05T18:33:03.179Z"
   },
   {
    "duration": 4,
    "start_time": "2023-07-05T18:33:03.531Z"
   },
   {
    "duration": 1081,
    "start_time": "2023-07-05T18:33:03.733Z"
   },
   {
    "duration": 74,
    "start_time": "2023-07-05T18:33:04.816Z"
   },
   {
    "duration": 7,
    "start_time": "2023-07-05T18:33:04.892Z"
   },
   {
    "duration": 22193,
    "start_time": "2023-07-05T18:33:04.909Z"
   },
   {
    "duration": 10,
    "start_time": "2023-07-05T18:33:27.104Z"
   },
   {
    "duration": 446,
    "start_time": "2023-07-05T18:33:27.115Z"
   },
   {
    "duration": 10,
    "start_time": "2023-07-05T18:33:27.569Z"
   },
   {
    "duration": 940,
    "start_time": "2023-07-05T18:33:27.583Z"
   },
   {
    "duration": 4,
    "start_time": "2023-07-05T18:33:28.525Z"
   },
   {
    "duration": 9,
    "start_time": "2023-07-05T18:33:28.532Z"
   },
   {
    "duration": 160,
    "start_time": "2023-07-05T18:33:28.561Z"
   },
   {
    "duration": 0,
    "start_time": "2023-07-05T18:33:28.723Z"
   },
   {
    "duration": 0,
    "start_time": "2023-07-05T18:33:28.725Z"
   },
   {
    "duration": 0,
    "start_time": "2023-07-05T18:33:28.726Z"
   },
   {
    "duration": 0,
    "start_time": "2023-07-05T18:33:28.728Z"
   },
   {
    "duration": 0,
    "start_time": "2023-07-05T18:33:28.730Z"
   },
   {
    "duration": 4,
    "start_time": "2023-07-05T18:35:40.134Z"
   },
   {
    "duration": 354,
    "start_time": "2023-07-05T18:35:40.711Z"
   },
   {
    "duration": 5,
    "start_time": "2023-07-05T18:35:41.828Z"
   },
   {
    "duration": 35,
    "start_time": "2023-07-05T18:35:42.056Z"
   },
   {
    "duration": 18,
    "start_time": "2023-07-05T18:35:42.265Z"
   },
   {
    "duration": 47,
    "start_time": "2023-07-05T18:35:42.418Z"
   },
   {
    "duration": 2,
    "start_time": "2023-07-05T18:35:42.804Z"
   },
   {
    "duration": 39,
    "start_time": "2023-07-05T18:35:42.984Z"
   },
   {
    "duration": 13,
    "start_time": "2023-07-05T18:35:43.155Z"
   },
   {
    "duration": 7,
    "start_time": "2023-07-05T18:35:43.319Z"
   },
   {
    "duration": 13,
    "start_time": "2023-07-05T18:35:43.886Z"
   },
   {
    "duration": 15,
    "start_time": "2023-07-05T18:35:44.101Z"
   },
   {
    "duration": 6,
    "start_time": "2023-07-05T18:35:44.309Z"
   },
   {
    "duration": 7,
    "start_time": "2023-07-05T18:35:44.496Z"
   },
   {
    "duration": 174,
    "start_time": "2023-07-05T18:35:44.693Z"
   },
   {
    "duration": 39,
    "start_time": "2023-07-05T18:35:44.868Z"
   },
   {
    "duration": 19,
    "start_time": "2023-07-05T18:35:45.068Z"
   },
   {
    "duration": 3,
    "start_time": "2023-07-05T18:35:45.704Z"
   },
   {
    "duration": 18,
    "start_time": "2023-07-05T18:35:45.901Z"
   },
   {
    "duration": 7,
    "start_time": "2023-07-05T18:35:46.118Z"
   },
   {
    "duration": 7,
    "start_time": "2023-07-05T18:35:46.313Z"
   },
   {
    "duration": 3,
    "start_time": "2023-07-05T18:35:47.104Z"
   },
   {
    "duration": 54,
    "start_time": "2023-07-05T18:35:47.152Z"
   },
   {
    "duration": 6,
    "start_time": "2023-07-05T18:35:47.346Z"
   },
   {
    "duration": 5,
    "start_time": "2023-07-05T18:35:47.555Z"
   },
   {
    "duration": 7,
    "start_time": "2023-07-05T18:35:47.748Z"
   },
   {
    "duration": 3,
    "start_time": "2023-07-05T18:35:48.108Z"
   },
   {
    "duration": 1051,
    "start_time": "2023-07-05T18:35:48.297Z"
   },
   {
    "duration": 82,
    "start_time": "2023-07-05T18:35:49.350Z"
   },
   {
    "duration": 8,
    "start_time": "2023-07-05T18:35:49.434Z"
   },
   {
    "duration": 23513,
    "start_time": "2023-07-05T18:35:49.684Z"
   },
   {
    "duration": 14,
    "start_time": "2023-07-05T18:36:13.199Z"
   },
   {
    "duration": 567,
    "start_time": "2023-07-05T18:36:13.215Z"
   },
   {
    "duration": 10,
    "start_time": "2023-07-05T18:36:13.785Z"
   },
   {
    "duration": 976,
    "start_time": "2023-07-05T18:36:13.802Z"
   },
   {
    "duration": 4,
    "start_time": "2023-07-05T18:36:14.781Z"
   },
   {
    "duration": 18,
    "start_time": "2023-07-05T18:36:14.788Z"
   },
   {
    "duration": 106,
    "start_time": "2023-07-05T18:36:14.812Z"
   },
   {
    "duration": 0,
    "start_time": "2023-07-05T18:36:14.920Z"
   },
   {
    "duration": 0,
    "start_time": "2023-07-05T18:36:14.921Z"
   },
   {
    "duration": 0,
    "start_time": "2023-07-05T18:36:14.922Z"
   },
   {
    "duration": 0,
    "start_time": "2023-07-05T18:36:14.924Z"
   },
   {
    "duration": 0,
    "start_time": "2023-07-05T18:36:14.925Z"
   },
   {
    "duration": 60,
    "start_time": "2023-07-09T10:04:13.006Z"
   },
   {
    "duration": 6,
    "start_time": "2023-07-09T10:04:26.760Z"
   },
   {
    "duration": 1281,
    "start_time": "2023-07-09T10:04:57.228Z"
   },
   {
    "duration": 5,
    "start_time": "2023-07-09T10:04:58.510Z"
   },
   {
    "duration": 482,
    "start_time": "2023-07-09T10:04:58.516Z"
   },
   {
    "duration": 156,
    "start_time": "2023-07-09T10:04:59.000Z"
   },
   {
    "duration": 5,
    "start_time": "2023-07-09T10:04:59.158Z"
   },
   {
    "duration": 22,
    "start_time": "2023-07-09T10:04:59.165Z"
   },
   {
    "duration": 5,
    "start_time": "2023-07-09T10:04:59.188Z"
   },
   {
    "duration": 23,
    "start_time": "2023-07-09T10:04:59.195Z"
   },
   {
    "duration": 10,
    "start_time": "2023-07-09T10:04:59.220Z"
   },
   {
    "duration": 18,
    "start_time": "2023-07-09T10:04:59.232Z"
   },
   {
    "duration": 2252,
    "start_time": "2023-07-09T10:04:59.252Z"
   },
   {
    "duration": 11,
    "start_time": "2023-07-09T10:05:01.507Z"
   },
   {
    "duration": 41,
    "start_time": "2023-07-09T10:05:01.521Z"
   },
   {
    "duration": 32,
    "start_time": "2023-07-09T10:05:01.564Z"
   },
   {
    "duration": 47,
    "start_time": "2023-07-09T10:05:01.598Z"
   },
   {
    "duration": 39,
    "start_time": "2023-07-09T10:05:01.647Z"
   },
   {
    "duration": 26,
    "start_time": "2023-07-09T10:05:01.688Z"
   },
   {
    "duration": 8,
    "start_time": "2023-07-09T10:05:01.715Z"
   },
   {
    "duration": 32,
    "start_time": "2023-07-09T10:05:01.725Z"
   },
   {
    "duration": 35,
    "start_time": "2023-07-09T10:05:01.759Z"
   },
   {
    "duration": 19,
    "start_time": "2023-07-09T10:05:01.797Z"
   },
   {
    "duration": 270,
    "start_time": "2023-07-09T10:05:01.818Z"
   },
   {
    "duration": 4,
    "start_time": "2023-07-09T10:05:02.090Z"
   },
   {
    "duration": 20,
    "start_time": "2023-07-09T10:05:02.097Z"
   },
   {
    "duration": 20,
    "start_time": "2023-07-09T10:05:02.119Z"
   },
   {
    "duration": 43,
    "start_time": "2023-07-09T10:05:02.141Z"
   },
   {
    "duration": 3,
    "start_time": "2023-07-09T10:05:02.187Z"
   },
   {
    "duration": 96,
    "start_time": "2023-07-09T10:05:02.196Z"
   },
   {
    "duration": 76,
    "start_time": "2023-07-09T10:05:02.294Z"
   },
   {
    "duration": 48,
    "start_time": "2023-07-09T10:05:02.371Z"
   },
   {
    "duration": 6,
    "start_time": "2023-07-09T10:05:02.422Z"
   },
   {
    "duration": 19,
    "start_time": "2023-07-09T10:05:02.430Z"
   },
   {
    "duration": 214,
    "start_time": "2023-07-09T10:05:02.451Z"
   },
   {
    "duration": 23,
    "start_time": "2023-07-09T10:05:02.668Z"
   },
   {
    "duration": 20,
    "start_time": "2023-07-09T10:05:02.693Z"
   },
   {
    "duration": 30,
    "start_time": "2023-07-09T10:05:02.715Z"
   },
   {
    "duration": 10,
    "start_time": "2023-07-09T10:05:02.747Z"
   },
   {
    "duration": 27,
    "start_time": "2023-07-09T10:05:02.759Z"
   },
   {
    "duration": 23,
    "start_time": "2023-07-09T10:05:02.788Z"
   },
   {
    "duration": 52,
    "start_time": "2023-07-09T10:05:02.813Z"
   },
   {
    "duration": 22,
    "start_time": "2023-07-09T10:05:02.867Z"
   },
   {
    "duration": 41,
    "start_time": "2023-07-09T10:05:02.891Z"
   },
   {
    "duration": 1943,
    "start_time": "2023-07-09T10:05:02.935Z"
   },
   {
    "duration": 4,
    "start_time": "2023-07-09T10:05:04.880Z"
   },
   {
    "duration": 385,
    "start_time": "2023-07-09T10:05:04.886Z"
   },
   {
    "duration": 294,
    "start_time": "2023-07-09T10:05:05.273Z"
   },
   {
    "duration": 12,
    "start_time": "2023-07-09T10:05:05.569Z"
   },
   {
    "duration": 15,
    "start_time": "2023-07-09T10:05:05.587Z"
   },
   {
    "duration": 872,
    "start_time": "2023-07-09T10:05:05.604Z"
   },
   {
    "duration": 47,
    "start_time": "2023-07-09T10:05:06.480Z"
   },
   {
    "duration": 5,
    "start_time": "2023-07-09T10:05:06.529Z"
   },
   {
    "duration": 23,
    "start_time": "2023-07-09T10:05:06.536Z"
   },
   {
    "duration": 63,
    "start_time": "2023-07-09T10:05:06.561Z"
   },
   {
    "duration": 83,
    "start_time": "2023-07-09T10:05:06.626Z"
   },
   {
    "duration": 2,
    "start_time": "2023-07-09T10:05:06.711Z"
   },
   {
    "duration": 1562,
    "start_time": "2023-07-09T10:05:06.716Z"
   },
   {
    "duration": 194,
    "start_time": "2023-07-09T10:05:08.293Z"
   },
   {
    "duration": 84,
    "start_time": "2023-07-09T10:05:08.491Z"
   },
   {
    "duration": 9,
    "start_time": "2023-07-09T10:05:08.578Z"
   },
   {
    "duration": 417,
    "start_time": "2023-07-09T10:05:08.589Z"
   },
   {
    "duration": 93,
    "start_time": "2023-07-09T10:05:09.008Z"
   },
   {
    "duration": 8,
    "start_time": "2023-07-09T10:05:09.172Z"
   },
   {
    "duration": 9,
    "start_time": "2023-07-09T10:05:09.183Z"
   },
   {
    "duration": 819,
    "start_time": "2023-07-09T10:05:09.194Z"
   },
   {
    "duration": 44,
    "start_time": "2023-07-09T10:05:10.015Z"
   },
   {
    "duration": 55,
    "start_time": "2023-07-09T10:05:10.070Z"
   },
   {
    "duration": 7,
    "start_time": "2023-07-09T10:05:10.127Z"
   },
   {
    "duration": 7,
    "start_time": "2023-07-09T10:05:10.136Z"
   },
   {
    "duration": 12300,
    "start_time": "2023-07-09T10:05:10.144Z"
   },
   {
    "duration": 164,
    "start_time": "2023-07-09T10:05:22.446Z"
   },
   {
    "duration": 7,
    "start_time": "2023-07-09T10:05:22.612Z"
   },
   {
    "duration": 58098,
    "start_time": "2023-07-09T10:05:22.620Z"
   },
   {
    "duration": 12,
    "start_time": "2023-07-09T10:06:20.720Z"
   },
   {
    "duration": 401,
    "start_time": "2023-07-09T10:06:20.734Z"
   },
   {
    "duration": 5,
    "start_time": "2023-07-09T10:06:21.138Z"
   },
   {
    "duration": 1794,
    "start_time": "2023-07-09T10:06:21.145Z"
   },
   {
    "duration": 4,
    "start_time": "2023-07-09T10:06:22.941Z"
   },
   {
    "duration": 7,
    "start_time": "2023-07-09T10:06:22.946Z"
   },
   {
    "duration": 110,
    "start_time": "2023-07-09T10:06:22.955Z"
   },
   {
    "duration": 0,
    "start_time": "2023-07-09T10:06:23.068Z"
   },
   {
    "duration": 0,
    "start_time": "2023-07-09T10:06:23.068Z"
   },
   {
    "duration": 0,
    "start_time": "2023-07-09T10:06:23.070Z"
   },
   {
    "duration": 1,
    "start_time": "2023-07-09T10:06:23.071Z"
   },
   {
    "duration": 3,
    "start_time": "2023-07-09T10:08:08.843Z"
   },
   {
    "duration": 9,
    "start_time": "2023-07-09T10:08:08.848Z"
   },
   {
    "duration": 4,
    "start_time": "2023-07-09T10:08:08.859Z"
   },
   {
    "duration": 63,
    "start_time": "2023-07-09T10:08:08.865Z"
   },
   {
    "duration": 4,
    "start_time": "2023-07-09T10:08:08.930Z"
   },
   {
    "duration": 18,
    "start_time": "2023-07-09T10:08:08.937Z"
   },
   {
    "duration": 4,
    "start_time": "2023-07-09T10:08:08.957Z"
   },
   {
    "duration": 19,
    "start_time": "2023-07-09T10:08:08.963Z"
   },
   {
    "duration": 3,
    "start_time": "2023-07-09T10:08:08.986Z"
   },
   {
    "duration": 6,
    "start_time": "2023-07-09T10:08:08.991Z"
   },
   {
    "duration": 1980,
    "start_time": "2023-07-09T10:08:08.999Z"
   },
   {
    "duration": 8,
    "start_time": "2023-07-09T10:08:10.980Z"
   },
   {
    "duration": 8,
    "start_time": "2023-07-09T10:08:10.991Z"
   },
   {
    "duration": 11,
    "start_time": "2023-07-09T10:08:11.000Z"
   },
   {
    "duration": 9,
    "start_time": "2023-07-09T10:08:11.012Z"
   },
   {
    "duration": 11,
    "start_time": "2023-07-09T10:08:11.023Z"
   },
   {
    "duration": 31,
    "start_time": "2023-07-09T10:08:11.035Z"
   },
   {
    "duration": 8,
    "start_time": "2023-07-09T10:08:11.071Z"
   },
   {
    "duration": 36,
    "start_time": "2023-07-09T10:08:11.082Z"
   },
   {
    "duration": 8,
    "start_time": "2023-07-09T10:08:11.120Z"
   },
   {
    "duration": 12,
    "start_time": "2023-07-09T10:08:11.130Z"
   },
   {
    "duration": 202,
    "start_time": "2023-07-09T10:08:11.144Z"
   },
   {
    "duration": 5,
    "start_time": "2023-07-09T10:08:11.348Z"
   },
   {
    "duration": 22,
    "start_time": "2023-07-09T10:08:11.354Z"
   },
   {
    "duration": 25,
    "start_time": "2023-07-09T10:08:11.380Z"
   },
   {
    "duration": 15,
    "start_time": "2023-07-09T10:08:11.407Z"
   },
   {
    "duration": 5,
    "start_time": "2023-07-09T10:08:11.423Z"
   },
   {
    "duration": 75,
    "start_time": "2023-07-09T10:08:11.430Z"
   },
   {
    "duration": 66,
    "start_time": "2023-07-09T10:08:11.510Z"
   },
   {
    "duration": 28,
    "start_time": "2023-07-09T10:08:11.581Z"
   },
   {
    "duration": 5,
    "start_time": "2023-07-09T10:08:11.611Z"
   },
   {
    "duration": 8,
    "start_time": "2023-07-09T10:08:11.617Z"
   },
   {
    "duration": 184,
    "start_time": "2023-07-09T10:08:11.628Z"
   },
   {
    "duration": 18,
    "start_time": "2023-07-09T10:08:11.815Z"
   },
   {
    "duration": 5,
    "start_time": "2023-07-09T10:08:11.834Z"
   },
   {
    "duration": 5,
    "start_time": "2023-07-09T10:08:11.841Z"
   },
   {
    "duration": 5,
    "start_time": "2023-07-09T10:08:11.847Z"
   },
   {
    "duration": 15,
    "start_time": "2023-07-09T10:08:11.872Z"
   },
   {
    "duration": 2,
    "start_time": "2023-07-09T10:08:11.889Z"
   },
   {
    "duration": 22,
    "start_time": "2023-07-09T10:08:11.893Z"
   },
   {
    "duration": 17,
    "start_time": "2023-07-09T10:08:11.917Z"
   },
   {
    "duration": 3,
    "start_time": "2023-07-09T10:08:11.935Z"
   },
   {
    "duration": 2036,
    "start_time": "2023-07-09T10:08:11.939Z"
   },
   {
    "duration": 9,
    "start_time": "2023-07-09T10:08:13.976Z"
   },
   {
    "duration": 395,
    "start_time": "2023-07-09T10:08:13.987Z"
   },
   {
    "duration": 191,
    "start_time": "2023-07-09T10:08:14.384Z"
   },
   {
    "duration": 8,
    "start_time": "2023-07-09T10:08:14.577Z"
   },
   {
    "duration": 81,
    "start_time": "2023-07-09T10:08:14.591Z"
   },
   {
    "duration": 902,
    "start_time": "2023-07-09T10:08:14.674Z"
   },
   {
    "duration": 52,
    "start_time": "2023-07-09T10:08:15.582Z"
   },
   {
    "duration": 6,
    "start_time": "2023-07-09T10:08:15.636Z"
   },
   {
    "duration": 15,
    "start_time": "2023-07-09T10:08:15.643Z"
   },
   {
    "duration": 59,
    "start_time": "2023-07-09T10:08:15.659Z"
   },
   {
    "duration": 54,
    "start_time": "2023-07-09T10:08:15.720Z"
   },
   {
    "duration": 3,
    "start_time": "2023-07-09T10:08:15.776Z"
   },
   {
    "duration": 1399,
    "start_time": "2023-07-09T10:08:15.783Z"
   },
   {
    "duration": 188,
    "start_time": "2023-07-09T10:08:17.189Z"
   },
   {
    "duration": 83,
    "start_time": "2023-07-09T10:08:17.385Z"
   },
   {
    "duration": 3,
    "start_time": "2023-07-09T10:08:17.470Z"
   },
   {
    "duration": 437,
    "start_time": "2023-07-09T10:08:17.475Z"
   },
   {
    "duration": 65,
    "start_time": "2023-07-09T10:08:17.914Z"
   },
   {
    "duration": 84,
    "start_time": "2023-07-09T10:08:17.994Z"
   },
   {
    "duration": 7,
    "start_time": "2023-07-09T10:08:18.080Z"
   },
   {
    "duration": 797,
    "start_time": "2023-07-09T10:08:18.089Z"
   },
   {
    "duration": 55,
    "start_time": "2023-07-09T10:08:18.888Z"
   },
   {
    "duration": 54,
    "start_time": "2023-07-09T10:08:18.945Z"
   },
   {
    "duration": 8,
    "start_time": "2023-07-09T10:08:19.001Z"
   },
   {
    "duration": 8,
    "start_time": "2023-07-09T10:08:19.011Z"
   },
   {
    "duration": 11809,
    "start_time": "2023-07-09T10:08:19.021Z"
   },
   {
    "duration": 172,
    "start_time": "2023-07-09T10:08:30.831Z"
   },
   {
    "duration": 6,
    "start_time": "2023-07-09T10:08:31.005Z"
   },
   {
    "duration": 57574,
    "start_time": "2023-07-09T10:08:31.013Z"
   },
   {
    "duration": 10,
    "start_time": "2023-07-09T10:09:28.590Z"
   },
   {
    "duration": 559,
    "start_time": "2023-07-09T10:09:28.602Z"
   },
   {
    "duration": 14,
    "start_time": "2023-07-09T10:09:29.169Z"
   },
   {
    "duration": 1936,
    "start_time": "2023-07-09T10:09:29.185Z"
   },
   {
    "duration": 4,
    "start_time": "2023-07-09T10:09:31.123Z"
   },
   {
    "duration": 34,
    "start_time": "2023-07-09T10:09:31.129Z"
   },
   {
    "duration": 98,
    "start_time": "2023-07-09T10:09:31.165Z"
   },
   {
    "duration": 0,
    "start_time": "2023-07-09T10:09:31.265Z"
   },
   {
    "duration": 0,
    "start_time": "2023-07-09T10:09:31.266Z"
   },
   {
    "duration": 0,
    "start_time": "2023-07-09T10:09:31.267Z"
   },
   {
    "duration": 0,
    "start_time": "2023-07-09T10:09:31.274Z"
   },
   {
    "duration": 0,
    "start_time": "2023-07-09T10:09:31.275Z"
   },
   {
    "duration": 5,
    "start_time": "2023-07-09T10:09:54.112Z"
   },
   {
    "duration": 2,
    "start_time": "2023-07-09T10:13:23.117Z"
   },
   {
    "duration": 1924,
    "start_time": "2023-07-09T10:13:25.165Z"
   },
   {
    "duration": 237,
    "start_time": "2023-07-09T10:13:56.951Z"
   },
   {
    "duration": 49,
    "start_time": "2023-07-09T10:15:02.485Z"
   },
   {
    "duration": 1224,
    "start_time": "2023-07-09T10:15:19.943Z"
   },
   {
    "duration": 6,
    "start_time": "2023-07-09T10:15:21.184Z"
   },
   {
    "duration": 311,
    "start_time": "2023-07-09T10:15:21.192Z"
   },
   {
    "duration": 42,
    "start_time": "2023-07-09T10:15:21.505Z"
   },
   {
    "duration": 5,
    "start_time": "2023-07-09T10:15:21.548Z"
   },
   {
    "duration": 25,
    "start_time": "2023-07-09T10:15:21.555Z"
   },
   {
    "duration": 5,
    "start_time": "2023-07-09T10:15:21.582Z"
   },
   {
    "duration": 12,
    "start_time": "2023-07-09T10:15:21.589Z"
   },
   {
    "duration": 12,
    "start_time": "2023-07-09T10:15:21.602Z"
   },
   {
    "duration": 9,
    "start_time": "2023-07-09T10:15:21.616Z"
   },
   {
    "duration": 2005,
    "start_time": "2023-07-09T10:15:21.627Z"
   },
   {
    "duration": 7,
    "start_time": "2023-07-09T10:15:23.633Z"
   },
   {
    "duration": 6,
    "start_time": "2023-07-09T10:15:23.641Z"
   },
   {
    "duration": 6,
    "start_time": "2023-07-09T10:15:23.648Z"
   },
   {
    "duration": 23,
    "start_time": "2023-07-09T10:15:23.656Z"
   },
   {
    "duration": 4,
    "start_time": "2023-07-09T10:15:23.681Z"
   },
   {
    "duration": 15,
    "start_time": "2023-07-09T10:15:23.687Z"
   },
   {
    "duration": 4,
    "start_time": "2023-07-09T10:15:23.704Z"
   },
   {
    "duration": 16,
    "start_time": "2023-07-09T10:15:23.710Z"
   },
   {
    "duration": 4,
    "start_time": "2023-07-09T10:15:23.728Z"
   },
   {
    "duration": 5,
    "start_time": "2023-07-09T10:15:23.733Z"
   },
   {
    "duration": 226,
    "start_time": "2023-07-09T10:15:23.739Z"
   },
   {
    "duration": 10,
    "start_time": "2023-07-09T10:15:23.968Z"
   },
   {
    "duration": 17,
    "start_time": "2023-07-09T10:15:23.979Z"
   },
   {
    "duration": 21,
    "start_time": "2023-07-09T10:15:23.998Z"
   },
   {
    "duration": 13,
    "start_time": "2023-07-09T10:15:24.021Z"
   },
   {
    "duration": 5,
    "start_time": "2023-07-09T10:15:24.035Z"
   },
   {
    "duration": 70,
    "start_time": "2023-07-09T10:15:24.071Z"
   },
   {
    "duration": 79,
    "start_time": "2023-07-09T10:15:24.144Z"
   },
   {
    "duration": 45,
    "start_time": "2023-07-09T10:15:24.226Z"
   },
   {
    "duration": 5,
    "start_time": "2023-07-09T10:15:24.277Z"
   },
   {
    "duration": 9,
    "start_time": "2023-07-09T10:15:24.284Z"
   },
   {
    "duration": 163,
    "start_time": "2023-07-09T10:15:24.295Z"
   },
   {
    "duration": 29,
    "start_time": "2023-07-09T10:15:24.459Z"
   },
   {
    "duration": 4,
    "start_time": "2023-07-09T10:15:24.490Z"
   },
   {
    "duration": 5,
    "start_time": "2023-07-09T10:15:24.496Z"
   },
   {
    "duration": 5,
    "start_time": "2023-07-09T10:15:24.502Z"
   },
   {
    "duration": 10,
    "start_time": "2023-07-09T10:15:24.508Z"
   },
   {
    "duration": 3,
    "start_time": "2023-07-09T10:15:24.520Z"
   },
   {
    "duration": 57,
    "start_time": "2023-07-09T10:15:24.524Z"
   },
   {
    "duration": 17,
    "start_time": "2023-07-09T10:15:24.583Z"
   },
   {
    "duration": 9,
    "start_time": "2023-07-09T10:15:24.601Z"
   },
   {
    "duration": 1665,
    "start_time": "2023-07-09T10:15:24.612Z"
   },
   {
    "duration": 5,
    "start_time": "2023-07-09T10:15:26.278Z"
   },
   {
    "duration": 500,
    "start_time": "2023-07-09T10:15:26.285Z"
   },
   {
    "duration": 109,
    "start_time": "2023-07-09T10:15:26.789Z"
   },
   {
    "duration": 81,
    "start_time": "2023-07-09T10:15:26.900Z"
   },
   {
    "duration": 85,
    "start_time": "2023-07-09T10:15:26.984Z"
   },
   {
    "duration": 910,
    "start_time": "2023-07-09T10:15:27.075Z"
   },
   {
    "duration": 50,
    "start_time": "2023-07-09T10:15:27.987Z"
   },
   {
    "duration": 7,
    "start_time": "2023-07-09T10:15:28.039Z"
   },
   {
    "duration": 9,
    "start_time": "2023-07-09T10:15:28.047Z"
   },
   {
    "duration": 72,
    "start_time": "2023-07-09T10:15:28.057Z"
   },
   {
    "duration": 69,
    "start_time": "2023-07-09T10:15:28.131Z"
   },
   {
    "duration": 3,
    "start_time": "2023-07-09T10:15:28.202Z"
   },
   {
    "duration": 1174,
    "start_time": "2023-07-09T10:15:28.206Z"
   },
   {
    "duration": 210,
    "start_time": "2023-07-09T10:15:29.382Z"
   },
   {
    "duration": 78,
    "start_time": "2023-07-09T10:15:29.596Z"
   },
   {
    "duration": 4,
    "start_time": "2023-07-09T10:15:29.677Z"
   },
   {
    "duration": 520,
    "start_time": "2023-07-09T10:15:29.683Z"
   },
   {
    "duration": 68,
    "start_time": "2023-07-09T10:15:30.205Z"
   },
   {
    "duration": 99,
    "start_time": "2023-07-09T10:15:30.275Z"
   },
   {
    "duration": 3,
    "start_time": "2023-07-09T10:15:30.380Z"
   },
   {
    "duration": 775,
    "start_time": "2023-07-09T10:15:30.385Z"
   },
   {
    "duration": 49,
    "start_time": "2023-07-09T10:15:31.162Z"
   },
   {
    "duration": 40,
    "start_time": "2023-07-09T10:15:31.213Z"
   },
   {
    "duration": 46,
    "start_time": "2023-07-09T10:15:31.255Z"
   },
   {
    "duration": 77,
    "start_time": "2023-07-09T10:15:31.303Z"
   },
   {
    "duration": 11559,
    "start_time": "2023-07-09T10:15:31.382Z"
   },
   {
    "duration": 171,
    "start_time": "2023-07-09T10:15:42.943Z"
   },
   {
    "duration": 5,
    "start_time": "2023-07-09T10:15:43.116Z"
   },
   {
    "duration": 55336,
    "start_time": "2023-07-09T10:15:43.123Z"
   },
   {
    "duration": 19,
    "start_time": "2023-07-09T10:16:38.462Z"
   },
   {
    "duration": 335,
    "start_time": "2023-07-09T10:16:38.482Z"
   },
   {
    "duration": 5,
    "start_time": "2023-07-09T10:16:38.818Z"
   },
   {
    "duration": 1758,
    "start_time": "2023-07-09T10:16:38.824Z"
   },
   {
    "duration": 3,
    "start_time": "2023-07-09T10:16:40.584Z"
   },
   {
    "duration": 18,
    "start_time": "2023-07-09T10:16:40.588Z"
   },
   {
    "duration": 118,
    "start_time": "2023-07-09T10:16:40.607Z"
   },
   {
    "duration": 0,
    "start_time": "2023-07-09T10:16:40.727Z"
   },
   {
    "duration": 0,
    "start_time": "2023-07-09T10:16:40.728Z"
   },
   {
    "duration": 0,
    "start_time": "2023-07-09T10:16:40.729Z"
   },
   {
    "duration": 0,
    "start_time": "2023-07-09T10:16:40.730Z"
   },
   {
    "duration": 4,
    "start_time": "2023-07-09T10:17:52.029Z"
   },
   {
    "duration": 5,
    "start_time": "2023-07-09T10:17:52.452Z"
   },
   {
    "duration": 5,
    "start_time": "2023-07-09T10:17:52.828Z"
   },
   {
    "duration": 5,
    "start_time": "2023-07-09T10:17:53.121Z"
   },
   {
    "duration": 20,
    "start_time": "2023-07-09T10:17:53.293Z"
   },
   {
    "duration": 4,
    "start_time": "2023-07-09T10:17:53.509Z"
   },
   {
    "duration": 4,
    "start_time": "2023-07-09T10:17:53.733Z"
   },
   {
    "duration": 14,
    "start_time": "2023-07-09T10:17:53.923Z"
   },
   {
    "duration": 16,
    "start_time": "2023-07-09T10:17:54.072Z"
   },
   {
    "duration": 3,
    "start_time": "2023-07-09T10:17:54.655Z"
   },
   {
    "duration": 4,
    "start_time": "2023-07-09T10:17:55.106Z"
   },
   {
    "duration": 5,
    "start_time": "2023-07-09T10:17:55.725Z"
   },
   {
    "duration": 4,
    "start_time": "2023-07-09T10:17:56.145Z"
   },
   {
    "duration": 4,
    "start_time": "2023-07-09T10:17:56.318Z"
   },
   {
    "duration": 5,
    "start_time": "2023-07-09T10:17:56.805Z"
   },
   {
    "duration": 144,
    "start_time": "2023-07-09T10:18:02.865Z"
   },
   {
    "duration": 12,
    "start_time": "2023-07-09T10:18:03.651Z"
   },
   {
    "duration": 6,
    "start_time": "2023-07-09T10:18:04.110Z"
   },
   {
    "duration": 3,
    "start_time": "2023-07-09T10:18:04.806Z"
   },
   {
    "duration": 3,
    "start_time": "2023-07-09T10:18:05.131Z"
   },
   {
    "duration": 8,
    "start_time": "2023-07-09T10:18:05.401Z"
   },
   {
    "duration": 3,
    "start_time": "2023-07-09T10:18:05.584Z"
   },
   {
    "duration": 21,
    "start_time": "2023-07-09T10:18:06.308Z"
   },
   {
    "duration": 11,
    "start_time": "2023-07-09T10:18:06.642Z"
   },
   {
    "duration": 3,
    "start_time": "2023-07-09T10:18:07.443Z"
   },
   {
    "duration": 270,
    "start_time": "2023-07-09T10:18:08.005Z"
   },
   {
    "duration": 4,
    "start_time": "2023-07-09T10:18:08.403Z"
   },
   {
    "duration": 11,
    "start_time": "2023-07-09T10:18:08.613Z"
   },
   {
    "duration": 5,
    "start_time": "2023-07-09T10:18:09.294Z"
   },
   {
    "duration": 6,
    "start_time": "2023-07-09T10:18:09.809Z"
   },
   {
    "duration": 10,
    "start_time": "2023-07-09T10:25:27.122Z"
   },
   {
    "duration": 3,
    "start_time": "2023-07-09T10:26:12.749Z"
   },
   {
    "duration": 16,
    "start_time": "2023-07-09T10:28:37.665Z"
   },
   {
    "duration": 16,
    "start_time": "2023-07-09T10:29:07.260Z"
   },
   {
    "duration": 12,
    "start_time": "2023-07-09T10:29:39.710Z"
   },
   {
    "duration": 1142,
    "start_time": "2023-07-09T10:30:45.144Z"
   },
   {
    "duration": 5,
    "start_time": "2023-07-09T10:30:46.289Z"
   },
   {
    "duration": 287,
    "start_time": "2023-07-09T10:30:46.296Z"
   },
   {
    "duration": 40,
    "start_time": "2023-07-09T10:30:46.585Z"
   },
   {
    "duration": 5,
    "start_time": "2023-07-09T10:30:46.626Z"
   },
   {
    "duration": 29,
    "start_time": "2023-07-09T10:30:46.632Z"
   },
   {
    "duration": 33,
    "start_time": "2023-07-09T10:30:46.663Z"
   },
   {
    "duration": 4,
    "start_time": "2023-07-09T10:30:46.698Z"
   },
   {
    "duration": 6,
    "start_time": "2023-07-09T10:30:46.703Z"
   },
   {
    "duration": 13,
    "start_time": "2023-07-09T10:30:46.711Z"
   },
   {
    "duration": 6,
    "start_time": "2023-07-09T10:30:46.726Z"
   },
   {
    "duration": 1891,
    "start_time": "2023-07-09T10:30:46.733Z"
   },
   {
    "duration": 7,
    "start_time": "2023-07-09T10:30:48.625Z"
   },
   {
    "duration": 16,
    "start_time": "2023-07-09T10:30:48.633Z"
   },
   {
    "duration": 7,
    "start_time": "2023-07-09T10:30:48.650Z"
   },
   {
    "duration": 4,
    "start_time": "2023-07-09T10:30:48.659Z"
   },
   {
    "duration": 17,
    "start_time": "2023-07-09T10:30:48.665Z"
   },
   {
    "duration": 13,
    "start_time": "2023-07-09T10:30:48.683Z"
   },
   {
    "duration": 5,
    "start_time": "2023-07-09T10:30:48.699Z"
   },
   {
    "duration": 15,
    "start_time": "2023-07-09T10:30:48.706Z"
   },
   {
    "duration": 10,
    "start_time": "2023-07-09T10:30:48.723Z"
   },
   {
    "duration": 24,
    "start_time": "2023-07-09T10:30:48.735Z"
   },
   {
    "duration": 19,
    "start_time": "2023-07-09T10:30:48.760Z"
   },
   {
    "duration": 5,
    "start_time": "2023-07-09T10:30:48.781Z"
   },
   {
    "duration": 22,
    "start_time": "2023-07-09T10:30:48.787Z"
   },
   {
    "duration": 3,
    "start_time": "2023-07-09T10:30:48.810Z"
   },
   {
    "duration": 5,
    "start_time": "2023-07-09T10:30:48.815Z"
   },
   {
    "duration": 10,
    "start_time": "2023-07-09T10:30:48.823Z"
   },
   {
    "duration": 12,
    "start_time": "2023-07-09T10:30:48.834Z"
   },
   {
    "duration": 6,
    "start_time": "2023-07-09T10:30:48.848Z"
   },
   {
    "duration": 13,
    "start_time": "2023-07-09T10:30:48.880Z"
   },
   {
    "duration": 12,
    "start_time": "2023-07-09T10:30:48.895Z"
   },
   {
    "duration": 5,
    "start_time": "2023-07-09T10:30:48.908Z"
   },
   {
    "duration": 4,
    "start_time": "2023-07-09T10:30:48.915Z"
   },
   {
    "duration": 8,
    "start_time": "2023-07-09T10:30:48.920Z"
   },
   {
    "duration": 147,
    "start_time": "2023-07-09T10:30:48.929Z"
   },
   {
    "duration": 18,
    "start_time": "2023-07-09T10:30:49.078Z"
   },
   {
    "duration": 6,
    "start_time": "2023-07-09T10:30:49.098Z"
   },
   {
    "duration": 15,
    "start_time": "2023-07-09T10:30:49.105Z"
   },
   {
    "duration": 6,
    "start_time": "2023-07-09T10:30:49.121Z"
   },
   {
    "duration": 22,
    "start_time": "2023-07-09T10:30:49.128Z"
   },
   {
    "duration": 4,
    "start_time": "2023-07-09T10:30:49.151Z"
   },
   {
    "duration": 32,
    "start_time": "2023-07-09T10:30:49.157Z"
   },
   {
    "duration": 10,
    "start_time": "2023-07-09T10:30:49.190Z"
   },
   {
    "duration": 5,
    "start_time": "2023-07-09T10:30:49.201Z"
   },
   {
    "duration": 476,
    "start_time": "2023-07-09T10:30:49.207Z"
   },
   {
    "duration": 7,
    "start_time": "2023-07-09T10:30:49.770Z"
   },
   {
    "duration": 94,
    "start_time": "2023-07-09T10:30:49.779Z"
   },
   {
    "duration": 91,
    "start_time": "2023-07-09T10:30:49.880Z"
   },
   {
    "duration": 13,
    "start_time": "2023-07-09T10:30:49.976Z"
   },
   {
    "duration": 20,
    "start_time": "2023-07-09T10:30:50.069Z"
   },
   {
    "duration": 100,
    "start_time": "2023-07-09T10:30:50.090Z"
   },
   {
    "duration": 5,
    "start_time": "2023-07-09T10:30:50.191Z"
   },
   {
    "duration": 12,
    "start_time": "2023-07-09T10:30:50.198Z"
   },
   {
    "duration": 6,
    "start_time": "2023-07-09T10:30:50.212Z"
   },
   {
    "duration": 14,
    "start_time": "2023-07-09T10:30:50.219Z"
   },
   {
    "duration": 12,
    "start_time": "2023-07-09T10:30:50.235Z"
   },
   {
    "duration": 14,
    "start_time": "2023-07-09T10:30:50.248Z"
   },
   {
    "duration": 420,
    "start_time": "2023-07-09T10:30:50.264Z"
   },
   {
    "duration": 90,
    "start_time": "2023-07-09T10:30:50.687Z"
   },
   {
    "duration": 108,
    "start_time": "2023-07-09T10:30:50.778Z"
   },
   {
    "duration": 90,
    "start_time": "2023-07-09T10:30:50.888Z"
   },
   {
    "duration": 47,
    "start_time": "2023-07-09T10:30:50.979Z"
   },
   {
    "duration": 46,
    "start_time": "2023-07-09T10:30:51.028Z"
   },
   {
    "duration": 9,
    "start_time": "2023-07-09T10:30:51.086Z"
   },
   {
    "duration": 8,
    "start_time": "2023-07-09T10:30:51.171Z"
   },
   {
    "duration": 51,
    "start_time": "2023-07-09T10:30:51.180Z"
   },
   {
    "duration": 5,
    "start_time": "2023-07-09T10:30:51.232Z"
   },
   {
    "duration": 20,
    "start_time": "2023-07-09T10:30:51.239Z"
   },
   {
    "duration": 34,
    "start_time": "2023-07-09T10:30:51.261Z"
   },
   {
    "duration": 22,
    "start_time": "2023-07-09T10:30:51.297Z"
   },
   {
    "duration": 915,
    "start_time": "2023-07-09T10:30:51.321Z"
   },
   {
    "duration": 64,
    "start_time": "2023-07-09T10:30:52.238Z"
   },
   {
    "duration": 5,
    "start_time": "2023-07-09T10:30:52.304Z"
   },
   {
    "duration": 19322,
    "start_time": "2023-07-09T10:30:52.311Z"
   },
   {
    "duration": 7,
    "start_time": "2023-07-09T10:31:11.635Z"
   },
   {
    "duration": 382,
    "start_time": "2023-07-09T10:31:11.643Z"
   },
   {
    "duration": 5,
    "start_time": "2023-07-09T10:31:12.027Z"
   },
   {
    "duration": 797,
    "start_time": "2023-07-09T10:31:12.033Z"
   },
   {
    "duration": 3,
    "start_time": "2023-07-09T10:31:12.832Z"
   },
   {
    "duration": 11,
    "start_time": "2023-07-09T10:31:12.837Z"
   },
   {
    "duration": 169,
    "start_time": "2023-07-09T10:31:12.852Z"
   },
   {
    "duration": 0,
    "start_time": "2023-07-09T10:31:13.023Z"
   },
   {
    "duration": 0,
    "start_time": "2023-07-09T10:31:13.023Z"
   },
   {
    "duration": 0,
    "start_time": "2023-07-09T10:31:13.024Z"
   },
   {
    "duration": 0,
    "start_time": "2023-07-09T10:31:13.025Z"
   },
   {
    "duration": 12,
    "start_time": "2023-07-09T10:31:43.894Z"
   },
   {
    "duration": 12,
    "start_time": "2023-07-09T10:32:19.753Z"
   },
   {
    "duration": 14,
    "start_time": "2023-07-09T10:32:24.731Z"
   },
   {
    "duration": 93,
    "start_time": "2023-07-09T10:39:33.355Z"
   },
   {
    "duration": 4,
    "start_time": "2023-07-09T10:39:33.796Z"
   },
   {
    "duration": 256,
    "start_time": "2023-07-09T10:39:36.051Z"
   },
   {
    "duration": 4,
    "start_time": "2023-07-09T10:41:22.529Z"
   },
   {
    "duration": 106,
    "start_time": "2023-07-09T10:46:39.856Z"
   },
   {
    "duration": 1343,
    "start_time": "2023-07-09T10:51:56.012Z"
   },
   {
    "duration": 3,
    "start_time": "2023-07-09T10:52:06.973Z"
   },
   {
    "duration": 10,
    "start_time": "2023-07-09T10:53:55.848Z"
   },
   {
    "duration": 12,
    "start_time": "2023-07-09T10:53:57.123Z"
   },
   {
    "duration": 9,
    "start_time": "2023-07-09T10:55:26.405Z"
   },
   {
    "duration": 4,
    "start_time": "2023-07-09T10:55:38.312Z"
   },
   {
    "duration": 28,
    "start_time": "2023-07-09T10:56:27.811Z"
   },
   {
    "duration": 24,
    "start_time": "2023-07-09T10:58:19.094Z"
   },
   {
    "duration": 513,
    "start_time": "2023-07-09T10:58:30.630Z"
   },
   {
    "duration": 115,
    "start_time": "2023-07-09T10:59:45.818Z"
   },
   {
    "duration": 96,
    "start_time": "2023-07-09T11:00:18.924Z"
   },
   {
    "duration": 92,
    "start_time": "2023-07-09T11:00:25.306Z"
   },
   {
    "duration": 217,
    "start_time": "2023-07-09T11:01:01.504Z"
   },
   {
    "duration": 6,
    "start_time": "2023-07-09T11:01:44.312Z"
   },
   {
    "duration": 6,
    "start_time": "2023-07-09T11:02:20.106Z"
   },
   {
    "duration": 6,
    "start_time": "2023-07-09T11:02:20.949Z"
   },
   {
    "duration": 1159,
    "start_time": "2023-07-09T11:13:25.029Z"
   },
   {
    "duration": 3,
    "start_time": "2023-07-09T11:13:26.190Z"
   },
   {
    "duration": 252,
    "start_time": "2023-07-09T11:13:26.194Z"
   },
   {
    "duration": 40,
    "start_time": "2023-07-09T11:13:26.448Z"
   },
   {
    "duration": 5,
    "start_time": "2023-07-09T11:13:26.490Z"
   },
   {
    "duration": 13,
    "start_time": "2023-07-09T11:13:26.497Z"
   },
   {
    "duration": 15,
    "start_time": "2023-07-09T11:13:26.512Z"
   },
   {
    "duration": 12,
    "start_time": "2023-07-09T11:13:26.528Z"
   },
   {
    "duration": 12,
    "start_time": "2023-07-09T11:13:26.541Z"
   },
   {
    "duration": 4,
    "start_time": "2023-07-09T11:13:26.567Z"
   },
   {
    "duration": 5,
    "start_time": "2023-07-09T11:13:26.573Z"
   },
   {
    "duration": 6,
    "start_time": "2023-07-09T11:13:26.579Z"
   },
   {
    "duration": 11,
    "start_time": "2023-07-09T11:13:26.586Z"
   },
   {
    "duration": 6,
    "start_time": "2023-07-09T11:13:26.600Z"
   },
   {
    "duration": 5,
    "start_time": "2023-07-09T11:13:26.607Z"
   },
   {
    "duration": 4,
    "start_time": "2023-07-09T11:13:26.614Z"
   },
   {
    "duration": 3,
    "start_time": "2023-07-09T11:13:26.619Z"
   },
   {
    "duration": 5,
    "start_time": "2023-07-09T11:13:26.623Z"
   },
   {
    "duration": 45,
    "start_time": "2023-07-09T11:13:26.630Z"
   },
   {
    "duration": 2433,
    "start_time": "2023-07-09T11:13:26.677Z"
   },
   {
    "duration": 0,
    "start_time": "2023-07-09T11:13:29.114Z"
   },
   {
    "duration": 0,
    "start_time": "2023-07-09T11:13:29.115Z"
   },
   {
    "duration": 0,
    "start_time": "2023-07-09T11:13:29.116Z"
   },
   {
    "duration": 0,
    "start_time": "2023-07-09T11:13:29.117Z"
   },
   {
    "duration": 0,
    "start_time": "2023-07-09T11:13:29.118Z"
   },
   {
    "duration": 0,
    "start_time": "2023-07-09T11:13:29.120Z"
   },
   {
    "duration": 0,
    "start_time": "2023-07-09T11:13:29.120Z"
   },
   {
    "duration": 0,
    "start_time": "2023-07-09T11:13:29.121Z"
   },
   {
    "duration": 0,
    "start_time": "2023-07-09T11:13:29.122Z"
   },
   {
    "duration": 0,
    "start_time": "2023-07-09T11:13:29.123Z"
   },
   {
    "duration": 0,
    "start_time": "2023-07-09T11:13:29.124Z"
   },
   {
    "duration": 0,
    "start_time": "2023-07-09T11:13:29.125Z"
   },
   {
    "duration": 0,
    "start_time": "2023-07-09T11:13:29.126Z"
   },
   {
    "duration": 0,
    "start_time": "2023-07-09T11:13:29.128Z"
   },
   {
    "duration": 0,
    "start_time": "2023-07-09T11:13:29.128Z"
   },
   {
    "duration": 0,
    "start_time": "2023-07-09T11:13:29.129Z"
   },
   {
    "duration": 0,
    "start_time": "2023-07-09T11:13:29.131Z"
   },
   {
    "duration": 0,
    "start_time": "2023-07-09T11:13:29.132Z"
   },
   {
    "duration": 0,
    "start_time": "2023-07-09T11:13:29.133Z"
   },
   {
    "duration": 0,
    "start_time": "2023-07-09T11:13:29.135Z"
   },
   {
    "duration": 0,
    "start_time": "2023-07-09T11:13:29.135Z"
   },
   {
    "duration": 0,
    "start_time": "2023-07-09T11:13:29.136Z"
   },
   {
    "duration": 0,
    "start_time": "2023-07-09T11:13:29.138Z"
   },
   {
    "duration": 0,
    "start_time": "2023-07-09T11:13:29.139Z"
   },
   {
    "duration": 0,
    "start_time": "2023-07-09T11:13:29.140Z"
   },
   {
    "duration": 0,
    "start_time": "2023-07-09T11:13:29.141Z"
   },
   {
    "duration": 0,
    "start_time": "2023-07-09T11:13:29.142Z"
   },
   {
    "duration": 0,
    "start_time": "2023-07-09T11:13:29.143Z"
   },
   {
    "duration": 0,
    "start_time": "2023-07-09T11:13:29.144Z"
   },
   {
    "duration": 0,
    "start_time": "2023-07-09T11:13:29.145Z"
   },
   {
    "duration": 0,
    "start_time": "2023-07-09T11:13:29.146Z"
   },
   {
    "duration": 0,
    "start_time": "2023-07-09T11:13:29.147Z"
   },
   {
    "duration": 0,
    "start_time": "2023-07-09T11:13:29.149Z"
   },
   {
    "duration": 0,
    "start_time": "2023-07-09T11:13:29.150Z"
   },
   {
    "duration": 0,
    "start_time": "2023-07-09T11:13:29.167Z"
   },
   {
    "duration": 0,
    "start_time": "2023-07-09T11:13:29.169Z"
   },
   {
    "duration": 0,
    "start_time": "2023-07-09T11:13:29.170Z"
   },
   {
    "duration": 0,
    "start_time": "2023-07-09T11:13:29.171Z"
   },
   {
    "duration": 0,
    "start_time": "2023-07-09T11:13:29.172Z"
   },
   {
    "duration": 0,
    "start_time": "2023-07-09T11:13:29.173Z"
   },
   {
    "duration": 0,
    "start_time": "2023-07-09T11:13:29.174Z"
   },
   {
    "duration": 0,
    "start_time": "2023-07-09T11:13:29.176Z"
   },
   {
    "duration": 0,
    "start_time": "2023-07-09T11:13:29.177Z"
   },
   {
    "duration": 0,
    "start_time": "2023-07-09T11:13:29.178Z"
   },
   {
    "duration": 0,
    "start_time": "2023-07-09T11:13:29.179Z"
   },
   {
    "duration": 0,
    "start_time": "2023-07-09T11:13:29.180Z"
   },
   {
    "duration": 0,
    "start_time": "2023-07-09T11:13:29.181Z"
   },
   {
    "duration": 0,
    "start_time": "2023-07-09T11:13:29.182Z"
   },
   {
    "duration": 0,
    "start_time": "2023-07-09T11:13:29.183Z"
   },
   {
    "duration": 0,
    "start_time": "2023-07-09T11:13:29.184Z"
   },
   {
    "duration": 0,
    "start_time": "2023-07-09T11:13:29.185Z"
   },
   {
    "duration": 0,
    "start_time": "2023-07-09T11:13:29.186Z"
   },
   {
    "duration": 0,
    "start_time": "2023-07-09T11:13:29.188Z"
   },
   {
    "duration": 0,
    "start_time": "2023-07-09T11:13:29.189Z"
   },
   {
    "duration": 0,
    "start_time": "2023-07-09T11:13:29.190Z"
   },
   {
    "duration": 0,
    "start_time": "2023-07-09T11:13:29.191Z"
   },
   {
    "duration": 0,
    "start_time": "2023-07-09T11:13:29.192Z"
   },
   {
    "duration": 0,
    "start_time": "2023-07-09T11:13:29.193Z"
   },
   {
    "duration": 0,
    "start_time": "2023-07-09T11:13:29.194Z"
   },
   {
    "duration": 0,
    "start_time": "2023-07-09T11:13:29.195Z"
   },
   {
    "duration": 0,
    "start_time": "2023-07-09T11:13:29.197Z"
   },
   {
    "duration": 0,
    "start_time": "2023-07-09T11:13:29.198Z"
   },
   {
    "duration": 0,
    "start_time": "2023-07-09T11:13:29.199Z"
   },
   {
    "duration": 0,
    "start_time": "2023-07-09T11:13:29.200Z"
   },
   {
    "duration": 0,
    "start_time": "2023-07-09T11:13:29.201Z"
   },
   {
    "duration": 0,
    "start_time": "2023-07-09T11:13:29.202Z"
   },
   {
    "duration": 0,
    "start_time": "2023-07-09T11:13:29.203Z"
   },
   {
    "duration": 0,
    "start_time": "2023-07-09T11:13:29.204Z"
   },
   {
    "duration": 3,
    "start_time": "2023-07-09T11:14:34.702Z"
   },
   {
    "duration": 5,
    "start_time": "2023-07-09T11:14:34.708Z"
   },
   {
    "duration": 4,
    "start_time": "2023-07-09T11:14:34.715Z"
   },
   {
    "duration": 42,
    "start_time": "2023-07-09T11:14:34.721Z"
   },
   {
    "duration": 3,
    "start_time": "2023-07-09T11:14:34.765Z"
   },
   {
    "duration": 13,
    "start_time": "2023-07-09T11:14:34.770Z"
   },
   {
    "duration": 14,
    "start_time": "2023-07-09T11:14:34.784Z"
   },
   {
    "duration": 14,
    "start_time": "2023-07-09T11:14:34.799Z"
   },
   {
    "duration": 6,
    "start_time": "2023-07-09T11:14:34.815Z"
   },
   {
    "duration": 5,
    "start_time": "2023-07-09T11:14:34.823Z"
   },
   {
    "duration": 38,
    "start_time": "2023-07-09T11:14:34.829Z"
   },
   {
    "duration": 4,
    "start_time": "2023-07-09T11:14:34.869Z"
   },
   {
    "duration": 9,
    "start_time": "2023-07-09T11:14:34.875Z"
   },
   {
    "duration": 8,
    "start_time": "2023-07-09T11:14:34.888Z"
   },
   {
    "duration": 10,
    "start_time": "2023-07-09T11:14:34.897Z"
   },
   {
    "duration": 27,
    "start_time": "2023-07-09T11:14:34.908Z"
   },
   {
    "duration": 8,
    "start_time": "2023-07-09T11:14:34.937Z"
   },
   {
    "duration": 12,
    "start_time": "2023-07-09T11:14:34.947Z"
   },
   {
    "duration": 9,
    "start_time": "2023-07-09T11:14:34.968Z"
   },
   {
    "duration": 5,
    "start_time": "2023-07-09T11:14:34.978Z"
   },
   {
    "duration": 6,
    "start_time": "2023-07-09T11:14:34.984Z"
   },
   {
    "duration": 13,
    "start_time": "2023-07-09T11:14:34.991Z"
   },
   {
    "duration": 16,
    "start_time": "2023-07-09T11:14:35.005Z"
   },
   {
    "duration": 11,
    "start_time": "2023-07-09T11:14:35.022Z"
   },
   {
    "duration": 33,
    "start_time": "2023-07-09T11:14:35.034Z"
   },
   {
    "duration": 5,
    "start_time": "2023-07-09T11:14:35.068Z"
   },
   {
    "duration": 18,
    "start_time": "2023-07-09T11:14:35.074Z"
   },
   {
    "duration": 0,
    "start_time": "2023-07-09T11:14:35.095Z"
   },
   {
    "duration": 0,
    "start_time": "2023-07-09T11:14:35.097Z"
   },
   {
    "duration": 0,
    "start_time": "2023-07-09T11:14:35.098Z"
   },
   {
    "duration": 0,
    "start_time": "2023-07-09T11:14:35.099Z"
   },
   {
    "duration": 0,
    "start_time": "2023-07-09T11:14:35.100Z"
   },
   {
    "duration": 0,
    "start_time": "2023-07-09T11:14:35.101Z"
   },
   {
    "duration": 0,
    "start_time": "2023-07-09T11:14:35.102Z"
   },
   {
    "duration": 0,
    "start_time": "2023-07-09T11:14:35.103Z"
   },
   {
    "duration": 0,
    "start_time": "2023-07-09T11:14:35.104Z"
   },
   {
    "duration": 0,
    "start_time": "2023-07-09T11:14:35.105Z"
   },
   {
    "duration": 0,
    "start_time": "2023-07-09T11:14:35.106Z"
   },
   {
    "duration": 0,
    "start_time": "2023-07-09T11:14:35.107Z"
   },
   {
    "duration": 0,
    "start_time": "2023-07-09T11:14:35.108Z"
   },
   {
    "duration": 0,
    "start_time": "2023-07-09T11:14:35.109Z"
   },
   {
    "duration": 0,
    "start_time": "2023-07-09T11:14:35.111Z"
   },
   {
    "duration": 0,
    "start_time": "2023-07-09T11:14:35.112Z"
   },
   {
    "duration": 0,
    "start_time": "2023-07-09T11:14:35.113Z"
   },
   {
    "duration": 0,
    "start_time": "2023-07-09T11:14:35.113Z"
   },
   {
    "duration": 0,
    "start_time": "2023-07-09T11:14:35.115Z"
   },
   {
    "duration": 0,
    "start_time": "2023-07-09T11:14:35.116Z"
   },
   {
    "duration": 0,
    "start_time": "2023-07-09T11:14:35.117Z"
   },
   {
    "duration": 0,
    "start_time": "2023-07-09T11:14:35.118Z"
   },
   {
    "duration": 0,
    "start_time": "2023-07-09T11:14:35.119Z"
   },
   {
    "duration": 0,
    "start_time": "2023-07-09T11:14:35.120Z"
   },
   {
    "duration": 0,
    "start_time": "2023-07-09T11:14:35.121Z"
   },
   {
    "duration": 0,
    "start_time": "2023-07-09T11:14:35.168Z"
   },
   {
    "duration": 0,
    "start_time": "2023-07-09T11:14:35.169Z"
   },
   {
    "duration": 0,
    "start_time": "2023-07-09T11:14:35.170Z"
   },
   {
    "duration": 0,
    "start_time": "2023-07-09T11:14:35.171Z"
   },
   {
    "duration": 0,
    "start_time": "2023-07-09T11:14:35.173Z"
   },
   {
    "duration": 0,
    "start_time": "2023-07-09T11:14:35.173Z"
   },
   {
    "duration": 0,
    "start_time": "2023-07-09T11:14:35.174Z"
   },
   {
    "duration": 0,
    "start_time": "2023-07-09T11:14:35.175Z"
   },
   {
    "duration": 0,
    "start_time": "2023-07-09T11:14:35.177Z"
   },
   {
    "duration": 0,
    "start_time": "2023-07-09T11:14:35.178Z"
   },
   {
    "duration": 0,
    "start_time": "2023-07-09T11:14:35.178Z"
   },
   {
    "duration": 0,
    "start_time": "2023-07-09T11:14:35.180Z"
   },
   {
    "duration": 0,
    "start_time": "2023-07-09T11:14:35.181Z"
   },
   {
    "duration": 0,
    "start_time": "2023-07-09T11:14:35.182Z"
   },
   {
    "duration": 0,
    "start_time": "2023-07-09T11:14:35.182Z"
   },
   {
    "duration": 0,
    "start_time": "2023-07-09T11:14:35.183Z"
   },
   {
    "duration": 0,
    "start_time": "2023-07-09T11:14:35.184Z"
   },
   {
    "duration": 0,
    "start_time": "2023-07-09T11:14:35.185Z"
   },
   {
    "duration": 0,
    "start_time": "2023-07-09T11:14:35.186Z"
   },
   {
    "duration": 0,
    "start_time": "2023-07-09T11:14:35.187Z"
   },
   {
    "duration": 0,
    "start_time": "2023-07-09T11:14:35.188Z"
   },
   {
    "duration": 0,
    "start_time": "2023-07-09T11:14:35.189Z"
   },
   {
    "duration": 0,
    "start_time": "2023-07-09T11:14:35.190Z"
   },
   {
    "duration": 0,
    "start_time": "2023-07-09T11:14:35.191Z"
   },
   {
    "duration": 0,
    "start_time": "2023-07-09T11:14:35.192Z"
   },
   {
    "duration": 0,
    "start_time": "2023-07-09T11:14:35.193Z"
   },
   {
    "duration": 0,
    "start_time": "2023-07-09T11:14:35.194Z"
   },
   {
    "duration": 0,
    "start_time": "2023-07-09T11:14:35.195Z"
   },
   {
    "duration": 0,
    "start_time": "2023-07-09T11:14:35.200Z"
   },
   {
    "duration": 0,
    "start_time": "2023-07-09T11:14:35.200Z"
   },
   {
    "duration": 0,
    "start_time": "2023-07-09T11:14:35.201Z"
   },
   {
    "duration": 0,
    "start_time": "2023-07-09T11:14:35.203Z"
   },
   {
    "duration": 0,
    "start_time": "2023-07-09T11:14:35.203Z"
   },
   {
    "duration": 0,
    "start_time": "2023-07-09T11:14:35.268Z"
   },
   {
    "duration": 0,
    "start_time": "2023-07-09T11:14:35.269Z"
   },
   {
    "duration": 3,
    "start_time": "2023-07-09T11:17:13.208Z"
   },
   {
    "duration": 3,
    "start_time": "2023-07-09T11:17:17.626Z"
   },
   {
    "duration": 27,
    "start_time": "2023-07-09T11:17:18.439Z"
   },
   {
    "duration": 104,
    "start_time": "2023-07-09T11:18:44.668Z"
   },
   {
    "duration": 542,
    "start_time": "2023-07-09T11:18:46.142Z"
   },
   {
    "duration": 123,
    "start_time": "2023-07-09T11:18:48.613Z"
   },
   {
    "duration": 114,
    "start_time": "2023-07-09T11:18:56.723Z"
   },
   {
    "duration": 84,
    "start_time": "2023-07-09T11:18:59.654Z"
   },
   {
    "duration": 5,
    "start_time": "2023-07-09T11:19:14.852Z"
   },
   {
    "duration": 6,
    "start_time": "2023-07-09T11:19:29.851Z"
   },
   {
    "duration": 7,
    "start_time": "2023-07-09T11:19:30.609Z"
   },
   {
    "duration": 26,
    "start_time": "2023-07-09T11:22:27.951Z"
   },
   {
    "duration": 545,
    "start_time": "2023-07-09T11:22:28.658Z"
   },
   {
    "duration": 4,
    "start_time": "2023-07-09T11:24:47.006Z"
   },
   {
    "duration": 9,
    "start_time": "2023-07-09T11:24:47.945Z"
   },
   {
    "duration": 15,
    "start_time": "2023-07-09T11:24:49.201Z"
   },
   {
    "duration": 238,
    "start_time": "2023-07-09T11:24:50.344Z"
   },
   {
    "duration": 117,
    "start_time": "2023-07-09T11:25:16.716Z"
   },
   {
    "duration": 18,
    "start_time": "2023-07-09T11:26:33.719Z"
   },
   {
    "duration": 4,
    "start_time": "2023-07-09T11:26:34.644Z"
   },
   {
    "duration": 15,
    "start_time": "2023-07-09T11:26:35.906Z"
   },
   {
    "duration": 490,
    "start_time": "2023-07-09T11:26:54.008Z"
   },
   {
    "duration": 13,
    "start_time": "2023-07-09T11:26:56.110Z"
   },
   {
    "duration": 4,
    "start_time": "2023-07-09T11:27:34.900Z"
   },
   {
    "duration": 17,
    "start_time": "2023-07-09T11:27:45.008Z"
   },
   {
    "duration": 3,
    "start_time": "2023-07-09T11:27:45.643Z"
   },
   {
    "duration": 21,
    "start_time": "2023-07-09T11:27:46.340Z"
   },
   {
    "duration": 453,
    "start_time": "2023-07-09T11:27:47.547Z"
   },
   {
    "duration": 20,
    "start_time": "2023-07-09T11:27:48.170Z"
   },
   {
    "duration": 666,
    "start_time": "2023-07-09T11:28:44.704Z"
   },
   {
    "duration": 2128,
    "start_time": "2023-07-09T11:29:00.853Z"
   },
   {
    "duration": 215,
    "start_time": "2023-07-09T11:30:17.337Z"
   },
   {
    "duration": 21,
    "start_time": "2023-07-09T11:30:40.564Z"
   },
   {
    "duration": 79,
    "start_time": "2023-07-09T11:30:59.771Z"
   },
   {
    "duration": 4,
    "start_time": "2023-07-09T14:58:33.008Z"
   },
   {
    "duration": 22,
    "start_time": "2023-07-09T14:58:33.013Z"
   },
   {
    "duration": 34,
    "start_time": "2023-07-09T14:58:33.037Z"
   },
   {
    "duration": 57,
    "start_time": "2023-07-09T14:58:33.073Z"
   },
   {
    "duration": 4,
    "start_time": "2023-07-09T14:58:33.133Z"
   },
   {
    "duration": 31,
    "start_time": "2023-07-09T14:58:33.138Z"
   },
   {
    "duration": 23,
    "start_time": "2023-07-09T14:58:33.171Z"
   },
   {
    "duration": 18,
    "start_time": "2023-07-09T14:58:33.196Z"
   },
   {
    "duration": 6,
    "start_time": "2023-07-09T14:58:33.216Z"
   },
   {
    "duration": 4,
    "start_time": "2023-07-09T14:58:33.224Z"
   },
   {
    "duration": 7,
    "start_time": "2023-07-09T14:58:33.229Z"
   },
   {
    "duration": 22,
    "start_time": "2023-07-09T14:58:33.238Z"
   },
   {
    "duration": 8,
    "start_time": "2023-07-09T14:58:33.262Z"
   },
   {
    "duration": 9,
    "start_time": "2023-07-09T14:58:33.272Z"
   },
   {
    "duration": 21,
    "start_time": "2023-07-09T14:58:33.283Z"
   },
   {
    "duration": 5,
    "start_time": "2023-07-09T14:58:33.305Z"
   },
   {
    "duration": 6,
    "start_time": "2023-07-09T14:58:33.311Z"
   },
   {
    "duration": 10,
    "start_time": "2023-07-09T14:58:33.319Z"
   },
   {
    "duration": 13,
    "start_time": "2023-07-09T14:58:33.330Z"
   },
   {
    "duration": 4,
    "start_time": "2023-07-09T14:58:33.345Z"
   },
   {
    "duration": 8,
    "start_time": "2023-07-09T14:58:33.351Z"
   },
   {
    "duration": 4,
    "start_time": "2023-07-09T14:58:33.360Z"
   },
   {
    "duration": 11,
    "start_time": "2023-07-09T14:58:33.402Z"
   },
   {
    "duration": 11,
    "start_time": "2023-07-09T14:58:33.414Z"
   },
   {
    "duration": 9,
    "start_time": "2023-07-09T14:58:33.430Z"
   },
   {
    "duration": 3,
    "start_time": "2023-07-09T14:58:33.440Z"
   },
   {
    "duration": 8,
    "start_time": "2023-07-09T14:58:33.445Z"
   },
   {
    "duration": 64,
    "start_time": "2023-07-09T14:58:33.454Z"
   },
   {
    "duration": 88,
    "start_time": "2023-07-09T14:58:33.520Z"
   },
   {
    "duration": 628,
    "start_time": "2023-07-09T14:58:33.610Z"
   },
   {
    "duration": 118,
    "start_time": "2023-07-09T14:58:34.239Z"
   },
   {
    "duration": 193,
    "start_time": "2023-07-09T14:58:34.359Z"
   },
   {
    "duration": 105,
    "start_time": "2023-07-09T14:58:34.554Z"
   },
   {
    "duration": 5,
    "start_time": "2023-07-09T14:58:34.661Z"
   },
   {
    "duration": 10,
    "start_time": "2023-07-09T14:58:34.668Z"
   },
   {
    "duration": 28,
    "start_time": "2023-07-09T14:58:34.680Z"
   },
   {
    "duration": 25,
    "start_time": "2023-07-09T14:58:34.710Z"
   },
   {
    "duration": 580,
    "start_time": "2023-07-09T14:58:34.806Z"
   },
   {
    "duration": 4,
    "start_time": "2023-07-09T14:58:35.388Z"
   },
   {
    "duration": 9,
    "start_time": "2023-07-09T14:58:35.401Z"
   },
   {
    "duration": 23,
    "start_time": "2023-07-09T14:58:35.412Z"
   },
   {
    "duration": 352,
    "start_time": "2023-07-09T14:58:35.503Z"
   },
   {
    "duration": 49,
    "start_time": "2023-07-09T14:58:35.857Z"
   },
   {
    "duration": 4,
    "start_time": "2023-07-09T14:58:35.907Z"
   },
   {
    "duration": 28,
    "start_time": "2023-07-09T14:58:36.003Z"
   },
   {
    "duration": 510,
    "start_time": "2023-07-09T14:58:36.033Z"
   },
   {
    "duration": 23,
    "start_time": "2023-07-09T14:58:36.545Z"
   },
   {
    "duration": 741,
    "start_time": "2023-07-09T14:58:36.569Z"
   },
   {
    "duration": 2113,
    "start_time": "2023-07-09T14:58:37.312Z"
   },
   {
    "duration": 241,
    "start_time": "2023-07-09T14:58:39.426Z"
   },
   {
    "duration": 33,
    "start_time": "2023-07-09T14:58:39.669Z"
   },
   {
    "duration": 78,
    "start_time": "2023-07-09T15:01:18.608Z"
   },
   {
    "duration": 3,
    "start_time": "2023-07-09T15:01:28.385Z"
   },
   {
    "duration": 13,
    "start_time": "2023-07-09T15:01:29.501Z"
   },
   {
    "duration": 6,
    "start_time": "2023-07-09T15:19:14.745Z"
   },
   {
    "duration": 1170,
    "start_time": "2023-07-09T15:20:51.775Z"
   },
   {
    "duration": 4,
    "start_time": "2023-07-09T15:20:52.947Z"
   },
   {
    "duration": 268,
    "start_time": "2023-07-09T15:20:52.952Z"
   },
   {
    "duration": 41,
    "start_time": "2023-07-09T15:20:53.222Z"
   },
   {
    "duration": 5,
    "start_time": "2023-07-09T15:20:53.265Z"
   },
   {
    "duration": 17,
    "start_time": "2023-07-09T15:20:53.271Z"
   },
   {
    "duration": 21,
    "start_time": "2023-07-09T15:20:53.289Z"
   },
   {
    "duration": 14,
    "start_time": "2023-07-09T15:20:53.312Z"
   },
   {
    "duration": 6,
    "start_time": "2023-07-09T15:20:53.328Z"
   },
   {
    "duration": 7,
    "start_time": "2023-07-09T15:20:53.336Z"
   },
   {
    "duration": 11,
    "start_time": "2023-07-09T15:20:53.344Z"
   },
   {
    "duration": 5,
    "start_time": "2023-07-09T15:20:53.357Z"
   },
   {
    "duration": 39,
    "start_time": "2023-07-09T15:20:53.364Z"
   },
   {
    "duration": 8,
    "start_time": "2023-07-09T15:20:53.404Z"
   },
   {
    "duration": 120,
    "start_time": "2023-07-09T15:20:53.414Z"
   },
   {
    "duration": 0,
    "start_time": "2023-07-09T15:20:53.537Z"
   },
   {
    "duration": 0,
    "start_time": "2023-07-09T15:20:53.538Z"
   },
   {
    "duration": 0,
    "start_time": "2023-07-09T15:20:53.539Z"
   },
   {
    "duration": 0,
    "start_time": "2023-07-09T15:20:53.540Z"
   },
   {
    "duration": 0,
    "start_time": "2023-07-09T15:20:53.542Z"
   },
   {
    "duration": 0,
    "start_time": "2023-07-09T15:20:53.542Z"
   },
   {
    "duration": 0,
    "start_time": "2023-07-09T15:20:53.543Z"
   },
   {
    "duration": 0,
    "start_time": "2023-07-09T15:20:53.545Z"
   },
   {
    "duration": 0,
    "start_time": "2023-07-09T15:20:53.546Z"
   },
   {
    "duration": 0,
    "start_time": "2023-07-09T15:20:53.547Z"
   },
   {
    "duration": 0,
    "start_time": "2023-07-09T15:20:53.548Z"
   },
   {
    "duration": 0,
    "start_time": "2023-07-09T15:20:53.550Z"
   },
   {
    "duration": 0,
    "start_time": "2023-07-09T15:20:53.551Z"
   },
   {
    "duration": 0,
    "start_time": "2023-07-09T15:20:53.552Z"
   },
   {
    "duration": 0,
    "start_time": "2023-07-09T15:20:53.553Z"
   },
   {
    "duration": 0,
    "start_time": "2023-07-09T15:20:53.555Z"
   },
   {
    "duration": 0,
    "start_time": "2023-07-09T15:20:53.556Z"
   },
   {
    "duration": 0,
    "start_time": "2023-07-09T15:20:53.557Z"
   },
   {
    "duration": 0,
    "start_time": "2023-07-09T15:20:53.603Z"
   },
   {
    "duration": 0,
    "start_time": "2023-07-09T15:20:53.604Z"
   },
   {
    "duration": 0,
    "start_time": "2023-07-09T15:20:53.606Z"
   },
   {
    "duration": 0,
    "start_time": "2023-07-09T15:20:53.607Z"
   },
   {
    "duration": 0,
    "start_time": "2023-07-09T15:20:53.608Z"
   },
   {
    "duration": 0,
    "start_time": "2023-07-09T15:20:53.610Z"
   },
   {
    "duration": 0,
    "start_time": "2023-07-09T15:20:53.611Z"
   },
   {
    "duration": 0,
    "start_time": "2023-07-09T15:20:53.612Z"
   },
   {
    "duration": 0,
    "start_time": "2023-07-09T15:20:53.613Z"
   },
   {
    "duration": 0,
    "start_time": "2023-07-09T15:20:53.614Z"
   },
   {
    "duration": 0,
    "start_time": "2023-07-09T15:20:53.615Z"
   },
   {
    "duration": 0,
    "start_time": "2023-07-09T15:20:53.616Z"
   },
   {
    "duration": 0,
    "start_time": "2023-07-09T15:20:53.617Z"
   },
   {
    "duration": 0,
    "start_time": "2023-07-09T15:20:53.618Z"
   },
   {
    "duration": 0,
    "start_time": "2023-07-09T15:20:53.619Z"
   },
   {
    "duration": 0,
    "start_time": "2023-07-09T15:20:53.620Z"
   },
   {
    "duration": 4,
    "start_time": "2023-07-09T15:20:59.955Z"
   },
   {
    "duration": 13,
    "start_time": "2023-07-09T15:20:59.961Z"
   },
   {
    "duration": 5,
    "start_time": "2023-07-09T15:20:59.975Z"
   },
   {
    "duration": 46,
    "start_time": "2023-07-09T15:20:59.982Z"
   },
   {
    "duration": 11,
    "start_time": "2023-07-09T15:21:00.030Z"
   },
   {
    "duration": 18,
    "start_time": "2023-07-09T15:21:00.043Z"
   },
   {
    "duration": 24,
    "start_time": "2023-07-09T15:21:00.062Z"
   },
   {
    "duration": 26,
    "start_time": "2023-07-09T15:21:00.087Z"
   },
   {
    "duration": 5,
    "start_time": "2023-07-09T15:21:00.115Z"
   },
   {
    "duration": 14,
    "start_time": "2023-07-09T15:21:00.121Z"
   },
   {
    "duration": 18,
    "start_time": "2023-07-09T15:21:00.137Z"
   },
   {
    "duration": 24,
    "start_time": "2023-07-09T15:21:00.156Z"
   },
   {
    "duration": 22,
    "start_time": "2023-07-09T15:21:00.182Z"
   },
   {
    "duration": 8,
    "start_time": "2023-07-09T15:21:00.206Z"
   },
   {
    "duration": 15,
    "start_time": "2023-07-09T15:21:00.216Z"
   },
   {
    "duration": 0,
    "start_time": "2023-07-09T15:21:00.233Z"
   },
   {
    "duration": 0,
    "start_time": "2023-07-09T15:21:00.234Z"
   },
   {
    "duration": 0,
    "start_time": "2023-07-09T15:21:00.236Z"
   },
   {
    "duration": 0,
    "start_time": "2023-07-09T15:21:00.237Z"
   },
   {
    "duration": 0,
    "start_time": "2023-07-09T15:21:00.238Z"
   },
   {
    "duration": 0,
    "start_time": "2023-07-09T15:21:00.239Z"
   },
   {
    "duration": 0,
    "start_time": "2023-07-09T15:21:00.240Z"
   },
   {
    "duration": 0,
    "start_time": "2023-07-09T15:21:00.241Z"
   },
   {
    "duration": 0,
    "start_time": "2023-07-09T15:21:00.242Z"
   },
   {
    "duration": 0,
    "start_time": "2023-07-09T15:21:00.243Z"
   },
   {
    "duration": 0,
    "start_time": "2023-07-09T15:21:00.244Z"
   },
   {
    "duration": 0,
    "start_time": "2023-07-09T15:21:00.245Z"
   },
   {
    "duration": 0,
    "start_time": "2023-07-09T15:21:00.246Z"
   },
   {
    "duration": 0,
    "start_time": "2023-07-09T15:21:00.247Z"
   },
   {
    "duration": 0,
    "start_time": "2023-07-09T15:21:00.248Z"
   },
   {
    "duration": 0,
    "start_time": "2023-07-09T15:21:00.249Z"
   },
   {
    "duration": 0,
    "start_time": "2023-07-09T15:21:00.250Z"
   },
   {
    "duration": 0,
    "start_time": "2023-07-09T15:21:00.251Z"
   },
   {
    "duration": 0,
    "start_time": "2023-07-09T15:21:00.252Z"
   },
   {
    "duration": 0,
    "start_time": "2023-07-09T15:21:00.253Z"
   },
   {
    "duration": 0,
    "start_time": "2023-07-09T15:21:00.302Z"
   },
   {
    "duration": 0,
    "start_time": "2023-07-09T15:21:00.303Z"
   },
   {
    "duration": 0,
    "start_time": "2023-07-09T15:21:00.305Z"
   },
   {
    "duration": 0,
    "start_time": "2023-07-09T15:21:00.306Z"
   },
   {
    "duration": 0,
    "start_time": "2023-07-09T15:21:00.307Z"
   },
   {
    "duration": 0,
    "start_time": "2023-07-09T15:21:00.308Z"
   },
   {
    "duration": 0,
    "start_time": "2023-07-09T15:21:00.309Z"
   },
   {
    "duration": 0,
    "start_time": "2023-07-09T15:21:00.310Z"
   },
   {
    "duration": 0,
    "start_time": "2023-07-09T15:21:00.311Z"
   },
   {
    "duration": 0,
    "start_time": "2023-07-09T15:21:00.312Z"
   },
   {
    "duration": 0,
    "start_time": "2023-07-09T15:21:00.313Z"
   },
   {
    "duration": 0,
    "start_time": "2023-07-09T15:21:00.314Z"
   },
   {
    "duration": 0,
    "start_time": "2023-07-09T15:21:00.315Z"
   },
   {
    "duration": 0,
    "start_time": "2023-07-09T15:21:00.316Z"
   },
   {
    "duration": 5,
    "start_time": "2023-07-09T15:21:53.998Z"
   },
   {
    "duration": 1136,
    "start_time": "2023-07-09T15:27:15.524Z"
   },
   {
    "duration": 4,
    "start_time": "2023-07-09T15:27:16.662Z"
   },
   {
    "duration": 335,
    "start_time": "2023-07-09T15:27:16.667Z"
   },
   {
    "duration": 42,
    "start_time": "2023-07-09T15:27:17.004Z"
   },
   {
    "duration": 6,
    "start_time": "2023-07-09T15:27:17.065Z"
   },
   {
    "duration": 15,
    "start_time": "2023-07-09T15:27:17.290Z"
   },
   {
    "duration": 17,
    "start_time": "2023-07-09T15:27:17.771Z"
   },
   {
    "duration": 22,
    "start_time": "2023-07-09T15:27:18.145Z"
   },
   {
    "duration": 4,
    "start_time": "2023-07-09T15:27:18.393Z"
   },
   {
    "duration": 5,
    "start_time": "2023-07-09T15:27:19.137Z"
   },
   {
    "duration": 3,
    "start_time": "2023-07-09T15:27:19.505Z"
   },
   {
    "duration": 4,
    "start_time": "2023-07-09T15:27:19.899Z"
   },
   {
    "duration": 8,
    "start_time": "2023-07-09T15:27:20.205Z"
   },
   {
    "duration": 7,
    "start_time": "2023-07-09T15:27:21.745Z"
   },
   {
    "duration": 5,
    "start_time": "2023-07-09T15:27:22.463Z"
   },
   {
    "duration": 9,
    "start_time": "2023-07-09T15:27:59.579Z"
   },
   {
    "duration": 55,
    "start_time": "2023-07-09T15:32:25.959Z"
   },
   {
    "duration": 4,
    "start_time": "2023-07-09T15:43:34.781Z"
   },
   {
    "duration": 11,
    "start_time": "2023-07-09T15:43:34.787Z"
   },
   {
    "duration": 11,
    "start_time": "2023-07-09T15:43:34.799Z"
   },
   {
    "duration": 53,
    "start_time": "2023-07-09T15:43:34.813Z"
   },
   {
    "duration": 5,
    "start_time": "2023-07-09T15:43:34.869Z"
   },
   {
    "duration": 16,
    "start_time": "2023-07-09T15:43:34.876Z"
   },
   {
    "duration": 19,
    "start_time": "2023-07-09T15:43:34.894Z"
   },
   {
    "duration": 18,
    "start_time": "2023-07-09T15:43:34.915Z"
   },
   {
    "duration": 11,
    "start_time": "2023-07-09T15:43:34.936Z"
   },
   {
    "duration": 5,
    "start_time": "2023-07-09T15:43:34.949Z"
   },
   {
    "duration": 8,
    "start_time": "2023-07-09T15:43:34.955Z"
   },
   {
    "duration": 38,
    "start_time": "2023-07-09T15:43:34.965Z"
   },
   {
    "duration": 11,
    "start_time": "2023-07-09T15:43:35.005Z"
   },
   {
    "duration": 9,
    "start_time": "2023-07-09T15:43:35.017Z"
   },
   {
    "duration": 12,
    "start_time": "2023-07-09T15:43:35.027Z"
   },
   {
    "duration": 5,
    "start_time": "2023-07-09T15:43:35.041Z"
   },
   {
    "duration": 10,
    "start_time": "2023-07-09T15:43:35.048Z"
   },
   {
    "duration": 5,
    "start_time": "2023-07-09T15:43:35.060Z"
   },
   {
    "duration": 36,
    "start_time": "2023-07-09T15:43:35.066Z"
   },
   {
    "duration": 12,
    "start_time": "2023-07-09T15:43:35.104Z"
   },
   {
    "duration": 20,
    "start_time": "2023-07-09T15:43:35.118Z"
   },
   {
    "duration": 11,
    "start_time": "2023-07-09T15:43:35.140Z"
   },
   {
    "duration": 3,
    "start_time": "2023-07-09T15:43:35.153Z"
   },
   {
    "duration": 7,
    "start_time": "2023-07-09T15:43:35.159Z"
   },
   {
    "duration": 51,
    "start_time": "2023-07-09T15:43:35.168Z"
   },
   {
    "duration": 83,
    "start_time": "2023-07-09T15:43:35.221Z"
   },
   {
    "duration": 670,
    "start_time": "2023-07-09T15:43:35.307Z"
   },
   {
    "duration": 136,
    "start_time": "2023-07-09T15:43:35.978Z"
   },
   {
    "duration": 115,
    "start_time": "2023-07-09T15:43:36.115Z"
   },
   {
    "duration": 107,
    "start_time": "2023-07-09T15:43:36.232Z"
   },
   {
    "duration": 6,
    "start_time": "2023-07-09T15:43:36.340Z"
   },
   {
    "duration": 11,
    "start_time": "2023-07-09T15:43:36.348Z"
   },
   {
    "duration": 8,
    "start_time": "2023-07-09T15:43:36.361Z"
   },
   {
    "duration": 135,
    "start_time": "2023-07-09T15:43:36.371Z"
   },
   {
    "duration": 613,
    "start_time": "2023-07-09T15:43:36.508Z"
   },
   {
    "duration": 4,
    "start_time": "2023-07-09T15:43:37.123Z"
   },
   {
    "duration": 28,
    "start_time": "2023-07-09T15:43:37.129Z"
   },
   {
    "duration": 147,
    "start_time": "2023-07-09T15:43:37.159Z"
   },
   {
    "duration": 353,
    "start_time": "2023-07-09T15:43:37.309Z"
   },
   {
    "duration": 47,
    "start_time": "2023-07-09T15:43:37.663Z"
   },
   {
    "duration": 102,
    "start_time": "2023-07-09T15:43:37.713Z"
   },
   {
    "duration": 35,
    "start_time": "2023-07-09T15:43:37.817Z"
   },
   {
    "duration": 523,
    "start_time": "2023-07-09T15:43:37.902Z"
   },
   {
    "duration": 25,
    "start_time": "2023-07-09T15:43:38.427Z"
   },
   {
    "duration": 774,
    "start_time": "2023-07-09T15:43:38.454Z"
   },
   {
    "duration": 2161,
    "start_time": "2023-07-09T15:43:39.229Z"
   },
   {
    "duration": 234,
    "start_time": "2023-07-09T15:43:41.392Z"
   },
   {
    "duration": 25,
    "start_time": "2023-07-09T15:43:41.628Z"
   },
   {
    "duration": 11,
    "start_time": "2023-07-09T16:23:28.129Z"
   },
   {
    "duration": 18,
    "start_time": "2023-07-09T16:23:31.300Z"
   },
   {
    "duration": 300,
    "start_time": "2023-07-09T16:23:32.956Z"
   },
   {
    "duration": 9,
    "start_time": "2023-07-09T16:24:52.172Z"
   },
   {
    "duration": 18,
    "start_time": "2023-07-09T16:24:53.169Z"
   },
   {
    "duration": 294,
    "start_time": "2023-07-09T16:24:53.904Z"
   },
   {
    "duration": 10,
    "start_time": "2023-07-09T16:25:05.024Z"
   },
   {
    "duration": 17,
    "start_time": "2023-07-09T16:25:05.809Z"
   },
   {
    "duration": 312,
    "start_time": "2023-07-09T16:25:06.636Z"
   },
   {
    "duration": 14,
    "start_time": "2023-07-09T16:25:13.712Z"
   },
   {
    "duration": 20,
    "start_time": "2023-07-09T16:25:14.748Z"
   },
   {
    "duration": 299,
    "start_time": "2023-07-09T16:25:15.313Z"
   },
   {
    "duration": 10,
    "start_time": "2023-07-09T16:25:21.567Z"
   },
   {
    "duration": 16,
    "start_time": "2023-07-09T16:25:22.090Z"
   },
   {
    "duration": 336,
    "start_time": "2023-07-09T16:25:22.703Z"
   },
   {
    "duration": 11,
    "start_time": "2023-07-09T16:25:28.405Z"
   },
   {
    "duration": 17,
    "start_time": "2023-07-09T16:25:29.067Z"
   },
   {
    "duration": 293,
    "start_time": "2023-07-09T16:25:29.257Z"
   },
   {
    "duration": 7,
    "start_time": "2023-07-09T16:32:45.967Z"
   },
   {
    "duration": 7,
    "start_time": "2023-07-09T16:32:55.501Z"
   },
   {
    "duration": 6,
    "start_time": "2023-07-09T16:32:56.667Z"
   },
   {
    "duration": 1174,
    "start_time": "2023-07-09T16:33:11.472Z"
   },
   {
    "duration": 4,
    "start_time": "2023-07-09T16:33:12.650Z"
   },
   {
    "duration": 289,
    "start_time": "2023-07-09T16:33:12.656Z"
   },
   {
    "duration": 42,
    "start_time": "2023-07-09T16:33:12.947Z"
   },
   {
    "duration": 6,
    "start_time": "2023-07-09T16:33:12.990Z"
   },
   {
    "duration": 17,
    "start_time": "2023-07-09T16:33:12.997Z"
   },
   {
    "duration": 17,
    "start_time": "2023-07-09T16:33:13.015Z"
   },
   {
    "duration": 14,
    "start_time": "2023-07-09T16:33:13.034Z"
   },
   {
    "duration": 5,
    "start_time": "2023-07-09T16:33:13.051Z"
   },
   {
    "duration": 6,
    "start_time": "2023-07-09T16:33:13.057Z"
   },
   {
    "duration": 40,
    "start_time": "2023-07-09T16:33:13.064Z"
   },
   {
    "duration": 58,
    "start_time": "2023-07-09T16:33:13.105Z"
   },
   {
    "duration": 10,
    "start_time": "2023-07-09T16:33:13.165Z"
   },
   {
    "duration": 8,
    "start_time": "2023-07-09T16:33:13.177Z"
   },
   {
    "duration": 7,
    "start_time": "2023-07-09T16:33:13.188Z"
   },
   {
    "duration": 5,
    "start_time": "2023-07-09T16:33:13.196Z"
   },
   {
    "duration": 13,
    "start_time": "2023-07-09T16:33:13.202Z"
   },
   {
    "duration": 5,
    "start_time": "2023-07-09T16:33:13.216Z"
   },
   {
    "duration": 5,
    "start_time": "2023-07-09T16:33:13.223Z"
   },
   {
    "duration": 13,
    "start_time": "2023-07-09T16:33:13.230Z"
   },
   {
    "duration": 12,
    "start_time": "2023-07-09T16:33:13.245Z"
   },
   {
    "duration": 51,
    "start_time": "2023-07-09T16:33:13.258Z"
   },
   {
    "duration": 4,
    "start_time": "2023-07-09T16:33:13.311Z"
   },
   {
    "duration": 5,
    "start_time": "2023-07-09T16:33:13.316Z"
   },
   {
    "duration": 38,
    "start_time": "2023-07-09T16:33:13.322Z"
   },
   {
    "duration": 57,
    "start_time": "2023-07-09T16:33:13.362Z"
   },
   {
    "duration": 652,
    "start_time": "2023-07-09T16:33:13.503Z"
   },
   {
    "duration": 130,
    "start_time": "2023-07-09T16:33:14.157Z"
   },
   {
    "duration": 116,
    "start_time": "2023-07-09T16:33:14.289Z"
   },
   {
    "duration": 110,
    "start_time": "2023-07-09T16:33:14.408Z"
   },
   {
    "duration": 7,
    "start_time": "2023-07-09T16:33:14.520Z"
   },
   {
    "duration": 6,
    "start_time": "2023-07-09T16:33:14.529Z"
   },
   {
    "duration": 8,
    "start_time": "2023-07-09T16:33:14.537Z"
   },
   {
    "duration": 59,
    "start_time": "2023-07-09T16:33:14.546Z"
   },
   {
    "duration": 605,
    "start_time": "2023-07-09T16:33:14.606Z"
   },
   {
    "duration": 5,
    "start_time": "2023-07-09T16:33:15.212Z"
   },
   {
    "duration": 18,
    "start_time": "2023-07-09T16:33:15.218Z"
   },
   {
    "duration": 65,
    "start_time": "2023-07-09T16:33:15.238Z"
   },
   {
    "duration": 3,
    "start_time": "2023-07-09T16:33:19.566Z"
   },
   {
    "duration": 13,
    "start_time": "2023-07-09T16:33:19.570Z"
   },
   {
    "duration": 25,
    "start_time": "2023-07-09T16:33:19.601Z"
   },
   {
    "duration": 62,
    "start_time": "2023-07-09T16:33:19.628Z"
   },
   {
    "duration": 4,
    "start_time": "2023-07-09T16:33:19.692Z"
   },
   {
    "duration": 32,
    "start_time": "2023-07-09T16:33:19.697Z"
   },
   {
    "duration": 29,
    "start_time": "2023-07-09T16:33:19.731Z"
   },
   {
    "duration": 60,
    "start_time": "2023-07-09T16:33:19.762Z"
   },
   {
    "duration": 47,
    "start_time": "2023-07-09T16:33:19.823Z"
   },
   {
    "duration": 26,
    "start_time": "2023-07-09T16:33:19.872Z"
   },
   {
    "duration": 4,
    "start_time": "2023-07-09T16:33:19.899Z"
   },
   {
    "duration": 6,
    "start_time": "2023-07-09T16:33:19.905Z"
   },
   {
    "duration": 19,
    "start_time": "2023-07-09T16:33:19.913Z"
   },
   {
    "duration": 12,
    "start_time": "2023-07-09T16:33:19.934Z"
   },
   {
    "duration": 32,
    "start_time": "2023-07-09T16:33:19.948Z"
   },
   {
    "duration": 12,
    "start_time": "2023-07-09T16:33:19.981Z"
   },
   {
    "duration": 31,
    "start_time": "2023-07-09T16:33:19.995Z"
   },
   {
    "duration": 8,
    "start_time": "2023-07-09T16:33:20.028Z"
   },
   {
    "duration": 10,
    "start_time": "2023-07-09T16:33:20.037Z"
   },
   {
    "duration": 14,
    "start_time": "2023-07-09T16:33:20.049Z"
   },
   {
    "duration": 11,
    "start_time": "2023-07-09T16:33:20.065Z"
   },
   {
    "duration": 16,
    "start_time": "2023-07-09T16:33:20.078Z"
   },
   {
    "duration": 8,
    "start_time": "2023-07-09T16:33:20.096Z"
   },
   {
    "duration": 7,
    "start_time": "2023-07-09T16:33:20.106Z"
   },
   {
    "duration": 31,
    "start_time": "2023-07-09T16:33:20.115Z"
   },
   {
    "duration": 58,
    "start_time": "2023-07-09T16:33:20.148Z"
   },
   {
    "duration": 719,
    "start_time": "2023-07-09T16:33:20.208Z"
   },
   {
    "duration": 111,
    "start_time": "2023-07-09T16:33:20.929Z"
   },
   {
    "duration": 106,
    "start_time": "2023-07-09T16:33:21.042Z"
   },
   {
    "duration": 193,
    "start_time": "2023-07-09T16:33:21.150Z"
   },
   {
    "duration": 6,
    "start_time": "2023-07-09T16:33:21.345Z"
   },
   {
    "duration": 6,
    "start_time": "2023-07-09T16:33:21.352Z"
   },
   {
    "duration": 6,
    "start_time": "2023-07-09T16:33:21.360Z"
   },
   {
    "duration": 53,
    "start_time": "2023-07-09T16:33:21.367Z"
   },
   {
    "duration": 665,
    "start_time": "2023-07-09T16:33:21.422Z"
   },
   {
    "duration": 13,
    "start_time": "2023-07-09T16:33:22.089Z"
   },
   {
    "duration": 12,
    "start_time": "2023-07-09T16:33:22.104Z"
   },
   {
    "duration": 63,
    "start_time": "2023-07-09T16:33:22.117Z"
   },
   {
    "duration": 406,
    "start_time": "2023-07-09T16:33:22.203Z"
   },
   {
    "duration": 91,
    "start_time": "2023-07-09T16:33:22.611Z"
   },
   {
    "duration": 5,
    "start_time": "2023-07-09T16:33:22.704Z"
   },
   {
    "duration": 127,
    "start_time": "2023-07-09T16:33:22.711Z"
   },
   {
    "duration": 486,
    "start_time": "2023-07-09T16:33:22.840Z"
   },
   {
    "duration": 24,
    "start_time": "2023-07-09T16:33:23.328Z"
   },
   {
    "duration": 750,
    "start_time": "2023-07-09T16:33:23.354Z"
   },
   {
    "duration": 2093,
    "start_time": "2023-07-09T16:33:24.105Z"
   },
   {
    "duration": 233,
    "start_time": "2023-07-09T16:33:26.202Z"
   },
   {
    "duration": 27,
    "start_time": "2023-07-09T16:33:26.438Z"
   }
  ],
  "kernelspec": {
   "display_name": "Python 3 (ipykernel)",
   "language": "python",
   "name": "python3"
  },
  "language_info": {
   "codemirror_mode": {
    "name": "ipython",
    "version": 3
   },
   "file_extension": ".py",
   "mimetype": "text/x-python",
   "name": "python",
   "nbconvert_exporter": "python",
   "pygments_lexer": "ipython3",
   "version": "3.9.5"
  },
  "toc": {
   "base_numbering": 1,
   "nav_menu": {},
   "number_sections": true,
   "sideBar": true,
   "skip_h1_title": true,
   "title_cell": "Содержание",
   "title_sidebar": "Contents",
   "toc_cell": true,
   "toc_position": {
    "height": "calc(100% - 180px)",
    "left": "10px",
    "top": "150px",
    "width": "336.179px"
   },
   "toc_section_display": true,
   "toc_window_display": true
  }
 },
 "nbformat": 4,
 "nbformat_minor": 2
}
